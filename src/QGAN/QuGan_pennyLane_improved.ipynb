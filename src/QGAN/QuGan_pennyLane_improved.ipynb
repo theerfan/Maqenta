{
  "nbformat": 4,
  "nbformat_minor": 0,
  "metadata": {
    "colab": {
      "name": "QuGan-pennyLane-improved.ipynb",
      "provenance": [],
      "collapsed_sections": [],
      "authorship_tag": "ABX9TyO8gxiIZ6Mg4dhiUWeQ8wof",
      "include_colab_link": true
    },
    "kernelspec": {
      "name": "python3",
      "display_name": "Python 3"
    },
    "language_info": {
      "name": "python"
    }
  },
  "cells": [
    {
      "cell_type": "markdown",
      "metadata": {
        "id": "view-in-github",
        "colab_type": "text"
      },
      "source": [
        "<a href=\"https://colab.research.google.com/github/theerfan/Maqenta/blob/main/src/QuGan_pennyLane_improved.ipynb\" target=\"_parent\"><img src=\"https://colab.research.google.com/assets/colab-badge.svg\" alt=\"Open In Colab\"/></a>"
      ]
    },
    {
      "cell_type": "code",
      "metadata": {
        "id": "_jMj8d3yY1rW"
      },
      "source": [
        "# !pip install tensorflow pennylane pennylane-cirq\n",
        "# !pip install protobuf==3.13.0"
      ],
      "execution_count": null,
      "outputs": []
    },
    {
      "cell_type": "code",
      "metadata": {
        "id": "RAb_ay37ZFxl"
      },
      "source": [
        "import pennylane as qml\n",
        "import numpy as np\n",
        "import tensorflow as tf"
      ],
      "execution_count": null,
      "outputs": []
    },
    {
      "cell_type": "code",
      "metadata": {
        "id": "RJArgegTZtVl"
      },
      "source": [
        "dev = qml.device('cirq.simulator', wires=3)"
      ],
      "execution_count": null,
      "outputs": []
    },
    {
      "cell_type": "code",
      "metadata": {
        "id": "p3PrP7gRajvP"
      },
      "source": [
        "def real_data(angles, **kwargs):\n",
        "  qml.Hadamard(wires=0)\n",
        "  qml.Rot(*angles, wires=0) "
      ],
      "execution_count": null,
      "outputs": []
    },
    {
      "cell_type": "code",
      "metadata": {
        "id": "K776NfsDa6HB"
      },
      "source": [
        "def generator(w, **kwargs):\n",
        "    qml.Hadamard(wires=0)\n",
        "    qml.RX(w[0], wires=0)\n",
        "    qml.RX(w[1], wires=1)\n",
        "    qml.RY(w[2], wires=0)\n",
        "    qml.RY(w[3], wires=1)\n",
        "    qml.RZ(w[4], wires=0)\n",
        "    qml.RZ(w[5], wires=1)\n",
        "    qml.CNOT(wires=[0, 1])\n",
        "    qml.RX(w[6], wires=0)\n",
        "    qml.RY(w[7], wires=0)\n",
        "    qml.RZ(w[8], wires=0)\n",
        "\n",
        "def discriminator(w):\n",
        "    qml.Hadamard(wires=0)\n",
        "    qml.RX(w[0], wires=0)\n",
        "    qml.RX(w[1], wires=2)\n",
        "    qml.RY(w[2], wires=0)\n",
        "    qml.RY(w[3], wires=2)\n",
        "    qml.RZ(w[4], wires=0)\n",
        "    qml.RZ(w[5], wires=2)\n",
        "    qml.CNOT(wires=[0, 2])\n",
        "    qml.RX(w[6], wires=2)\n",
        "    qml.RY(w[7], wires=2)\n",
        "    qml.RZ(w[8], wires=2)"
      ],
      "execution_count": null,
      "outputs": []
    },
    {
      "cell_type": "code",
      "metadata": {
        "id": "L9sUiIRob74R"
      },
      "source": [
        "#Circuits for generating real and generated data and passing them to the discriminator\n",
        "@qml.qnode(dev, interface=\"tf\")\n",
        "def real_disc_circuit(phi, theta, omega, disc_weights):\n",
        "  real_data([phi, theta, omega])\n",
        "  discriminator(disc_weights)\n",
        "  return qml.expval(qml.PauliZ(2))\n",
        "\n",
        "@qml.qnode(dev, interface=\"tf\")\n",
        "def gen_disc_circuit(gen_weights, disc_weights):\n",
        "  generator(gen_weights)\n",
        "  discriminator(disc_weights)\n",
        "  return qml.expval(qml.PauliZ(2))"
      ],
      "execution_count": null,
      "outputs": []
    },
    {
      "cell_type": "code",
      "metadata": {
        "id": "V8XapGZocyjp"
      },
      "source": [
        "def prob_real_true(disc_weights):\n",
        "  true_disc_output = real_disc_circuit(phi, theta, omega, disc_weights)\n",
        "  # Convert to probability\n",
        "  prob_real_true = (true_disc_output + 1) / 2\n",
        "  return prob_real_true\n",
        "\n",
        "\n",
        "def prob_fake_true(gen_weights, disc_weights):\n",
        "  fake_disc_output = gen_disc_circuit(gen_weights, disc_weights)\n",
        "  # Convert to probability\n",
        "  prob_fake_true = (fake_disc_output + 1) / 2\n",
        "  return prob_fake_true\n",
        "\n",
        "def disc_cost(disc_weights):\n",
        "  cost = prob_fake_true(gen_weights, disc_weights) - prob_real_true(disc_weights)\n",
        "  return cost\n",
        "\n",
        "def gen_cost(gen_weights):\n",
        "  return -prob_fake_true(gen_weights, disc_weights)"
      ],
      "execution_count": null,
      "outputs": []
    },
    {
      "cell_type": "code",
      "metadata": {
        "id": "0XmcP5hxdqRB"
      },
      "source": [
        "phi = np.pi / 6\n",
        "theta = np.pi / 2\n",
        "omega = np.pi / 7\n",
        "\n",
        "np.random.seed(0)\n",
        "eps = 1e-2\n",
        "\n",
        "init_gen_weights = np.array([np.pi] + [0] * 8) + np.random.normal(scale=eps, size=(9, ))\n",
        "init_disc_weights = np.random.normal(size=(9, ))\n",
        "\n",
        "gen_weights = tf.Variable(init_gen_weights)\n",
        "disc_weights = tf.Variable(init_disc_weights)"
      ],
      "execution_count": null,
      "outputs": []
    },
    {
      "cell_type": "code",
      "metadata": {
        "id": "vfPA7AzMfA-l"
      },
      "source": [
        "opt = tf.keras.optimizers.SGD(0.4)"
      ],
      "execution_count": null,
      "outputs": []
    },
    {
      "cell_type": "code",
      "metadata": {
        "id": "1aQi_fx6fIzW"
      },
      "source": [
        "def disc_iteration():\n",
        "  cost = lambda: disc_cost(disc_weights)\n",
        "\n",
        "  print(\"####### Minimizing discriminator cost #######\")\n",
        "\n",
        "  for step in range(50):\n",
        "    opt.minimize(cost, disc_weights)\n",
        "    \n",
        "    if step % 5 == 0:\n",
        "      cost_val = cost().numpy()\n",
        "      print(\"Step {}: cost = {}\".format(step, cost_val))\n",
        "\n",
        "  print(\"####### Finished minimizing discriminator cost #######\")\n",
        "\n",
        "  print(\"Prob(real classified as real): \", prob_real_true(disc_weights).numpy())\n",
        "  print(\"Prob(fake classified as real): \", prob_fake_true(gen_weights, disc_weights).numpy())"
      ],
      "execution_count": null,
      "outputs": []
    },
    {
      "cell_type": "code",
      "metadata": {
        "id": "LDVxsE--hnU7"
      },
      "source": [
        "def gen_iteration():\n",
        "  cost = lambda: gen_cost(gen_weights)\n",
        "\n",
        "  print(\"####### Minimizing generator cost #######\")\n",
        "\n",
        "  for step in range(50):\n",
        "    opt.minimize(cost, gen_weights)\n",
        "    if step % 5 == 0:\n",
        "      cost_val = cost().numpy()\n",
        "      print(\"Step {}: cost = {}\".format(step, cost_val))\n",
        "\n",
        "  print(\"####### Finished minimizing generator cost #######\")\n",
        "\n",
        "  print(\"Prob(fake classified as real): \", prob_fake_true(gen_weights, disc_weights).numpy())"
      ],
      "execution_count": null,
      "outputs": []
    },
    {
      "cell_type": "code",
      "metadata": {
        "id": "d3CI-UasiE0H"
      },
      "source": [
        "def compare_data():\n",
        "\n",
        "  obs = [qml.PauliX(0), qml.PauliY(0), qml.PauliZ(0)]\n",
        "\n",
        "  bloch_vector_real = qml.map(real_data, obs, dev, interface=\"tf\")\n",
        "  bloch_vector_generator = qml.map(generator, obs, dev, interface=\"tf\")\n",
        "\n",
        "  print(\"Real Bloch vector: {}\".format(bloch_vector_real([phi, theta, omega])))\n",
        "  print(\"Generator Bloch vector: {}\".format(bloch_vector_generator(gen_weights)))"
      ],
      "execution_count": null,
      "outputs": []
    },
    {
      "cell_type": "code",
      "metadata": {
        "id": "3vb0Vxzgj3I7"
      },
      "source": [
        "# The training loop\n",
        "\n",
        "for i in range(5):\n",
        "  disc_iteration()\n",
        "  gen_iteration()\n",
        "  compare_data()"
      ],
      "execution_count": null,
      "outputs": []
    }
  ]
}