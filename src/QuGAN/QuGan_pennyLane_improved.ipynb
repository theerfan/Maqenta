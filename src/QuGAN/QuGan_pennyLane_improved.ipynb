{
  "nbformat": 4,
  "nbformat_minor": 2,
  "metadata": {
    "colab": {
      "name": "QuGan-pennyLane-improved.ipynb",
      "provenance": [],
      "collapsed_sections": [],
      "authorship_tag": "ABX9TyO8gxiIZ6Mg4dhiUWeQ8wof",
      "include_colab_link": true
    },
    "kernelspec": {
      "name": "python3",
      "display_name": "Python 3.9.6 64-bit ('venv': venv)"
    },
    "language_info": {
      "name": "python",
      "version": "3.9.6",
      "mimetype": "text/x-python",
      "codemirror_mode": {
        "name": "ipython",
        "version": 3
      },
      "pygments_lexer": "ipython3",
      "nbconvert_exporter": "python",
      "file_extension": ".py"
    },
    "interpreter": {
      "hash": "dc44aa18a01d4ef3c49dce97499f9883b1b573f96a33e2e79347f993e3562639"
    }
  },
  "cells": [
    {
      "cell_type": "markdown",
      "source": [
        "<a href=\"https://colab.research.google.com/github/theerfan/Maqenta/blob/main/src/QuGan_pennyLane_improved.ipynb\" target=\"_parent\"><img src=\"https://colab.research.google.com/assets/colab-badge.svg\" alt=\"Open In Colab\"/></a>"
      ],
      "metadata": {
        "id": "view-in-github",
        "colab_type": "text"
      }
    },
    {
      "cell_type": "code",
      "execution_count": null,
      "source": [
        "# !pip install pennylane pennylane-cirq\r\n",
        "# !pip install protobuf==3.13.0"
      ],
      "outputs": [],
      "metadata": {
        "id": "_jMj8d3yY1rW"
      }
    },
    {
      "cell_type": "code",
      "execution_count": 23,
      "source": [
        "import pennylane as qml\r\n",
        "from pennylane.templates.layers import BasicEntanglerLayers, StronglyEntanglingLayers\r\n",
        "from pennylane.templates.embeddings import AmplitudeEmbedding\r\n",
        "import pennylane.numpy as np\r\n",
        "import torch\r\n",
        "from music21 import converter, instrument, note, chord, stream\r\n",
        "\r\n",
        "from pathlib import Path\r\n",
        "import pickle, glob "
      ],
      "outputs": [],
      "metadata": {
        "id": "RAb_ay37ZFxl"
      }
    },
    {
      "cell_type": "code",
      "execution_count": 147,
      "source": [
        "n_wires = 10\r\n",
        "wires_range = range(n_wires)\r\n",
        "\r\n",
        "n_note_encoding = 6 \r\n",
        "encoding_range = range(n_note_encoding)\r\n",
        "\r\n",
        "dev = qml.device('default.qubit', wires=n_wires)\r\n",
        "\r\n",
        "running_dev = torch.device('cuda' if torch.cuda.is_available() else 'cpu')"
      ],
      "outputs": [],
      "metadata": {
        "id": "RJArgegTZtVl"
      }
    },
    {
      "cell_type": "code",
      "execution_count": null,
      "source": [
        "!wget https://github.com/theerfan/Maqenta/raw/main/data/notes.pk"
      ],
      "outputs": [],
      "metadata": {}
    },
    {
      "cell_type": "code",
      "execution_count": 148,
      "source": [
        "def normalize_l2(notes):\r\n",
        "    \"\"\"Normalize a list of notes to have a L2 norm of 1\"\"\"\r\n",
        "    l2_norm = np.linalg.norm(notes)\r\n",
        "    return l2_norm, notes / l2_norm"
      ],
      "outputs": [],
      "metadata": {}
    },
    {
      "cell_type": "code",
      "execution_count": 149,
      "source": [
        "# Midi.py\r\n",
        "\r\n",
        "notes_dir = \"notes.pk\"\r\n",
        "\r\n",
        "\r\n",
        "class Midi:\r\n",
        "    def __init__(self, seq_length, device):\r\n",
        "        self.seq_length = seq_length\r\n",
        "        self.device = device\r\n",
        "\r\n",
        "        if Path(notes_dir).is_file():\r\n",
        "            self.notes = pickle.load(open(notes_dir, \"rb\"))\r\n",
        "            # self.notes = pickle.loads(uploaded[notes_dir])\r\n",
        "        else:\r\n",
        "            self.notes = self.get_notes()\r\n",
        "            pickle.dump(self.notes, open(notes_dir, \"wb\"))\r\n",
        "\r\n",
        "        self.network_input, self.network_output = self.prepare_sequences(self.notes)\r\n",
        "        print(f\"Input shape: {self.network_input.shape}\")\r\n",
        "        print(f\"Output shape: {self.network_output.shape}\")\r\n",
        "\r\n",
        "    def get_notes(self):\r\n",
        "        \"\"\"Get all the notes and chords from the midi files in the ./midi_songs directory\"\"\"\r\n",
        "        # This is assuming that every interval between notes is the same (0.5)\r\n",
        "        notes = []\r\n",
        "\r\n",
        "        for file in glob.glob(\"midi_songs/*.mid\"):\r\n",
        "            midi = converter.parse(file)\r\n",
        "\r\n",
        "            print(\"Parsing %s\" % file)\r\n",
        "\r\n",
        "            notes_to_parse = None\r\n",
        "\r\n",
        "            try:  # file has instrument parts\r\n",
        "                s2 = instrument.partitionByInstrument(midi)\r\n",
        "                notes_to_parse = s2.parts[0].recurse()\r\n",
        "            except:  # file has notes in a flat structure\r\n",
        "                notes_to_parse = midi.flat.notes\r\n",
        "\r\n",
        "            for element in notes_to_parse:\r\n",
        "                if isinstance(element, note.Note):\r\n",
        "                    notes.append(str(element.pitch))\r\n",
        "                elif isinstance(element, chord.Chord):\r\n",
        "                    notes.append(\".\".join(str(n) for n in element.normalOrder))\r\n",
        "\r\n",
        "        with open(notes_dir, \"wb\") as filepath:\r\n",
        "            pickle.dump(notes, filepath)\r\n",
        "\r\n",
        "        return notes\r\n",
        "\r\n",
        "    def prepare_sequences(self, notes):\r\n",
        "        \"\"\"Prepare the sequences used by the Neural Network\"\"\"\r\n",
        "        self.n_vocab = len(set(notes))\r\n",
        "\r\n",
        "        # get all pitch names\r\n",
        "        pitchnames = sorted(set(item for item in notes))\r\n",
        "\r\n",
        "        # create a dictionary to map pitches to integers\r\n",
        "        self.note_to_int = {note: number for number, note in enumerate(pitchnames)}\r\n",
        "        self.int_to_note = {number: note for number, note in enumerate(pitchnames)}\r\n",
        "\r\n",
        "        network_input = []\r\n",
        "        network_output = []\r\n",
        "\r\n",
        "        # create input sequences and the corresponding outputs\r\n",
        "        for i in range(len(self.notes) - self.seq_length):\r\n",
        "            sequence_in = self.notes[i : i + self.seq_length]\r\n",
        "            sequence_out = self.notes[i + self.seq_length]\r\n",
        "            network_input.append([self.note_to_int[char] for char in sequence_in])\r\n",
        "            network_output.append(self.note_to_int[sequence_out])\r\n",
        "\r\n",
        "        n_patterns = len(network_input)\r\n",
        "\r\n",
        "        # reshape the input into a format compatible with LSTM layers\r\n",
        "        # So this is actuallyt (number of different inputs, sequence length, number of features)\r\n",
        "        network_input = np.reshape(network_input, (n_patterns, self.seq_length))\r\n",
        "        network_input = torch.tensor(network_input, device=self.device, dtype=torch.double)\r\n",
        "\r\n",
        "        self.input_norms = torch.tensor(np.linalg.norm(network_input, axis=1))\r\n",
        "        \r\n",
        "        # print(network_input.shape)\r\n",
        "        for i in range(network_input.shape[0]):\r\n",
        "            network_input[i] /= self.input_norms[i]\r\n",
        "        # network_input = torch.div(network_input, self.input_norms)\r\n",
        "\r\n",
        "        return (\r\n",
        "            network_input,\r\n",
        "            torch.tensor(network_output, device=self.device),\r\n",
        "        )\r\n",
        "\r\n",
        "    def create_midi_from_model(self, prediction_output, filename):\r\n",
        "        \"\"\"convert the output from the prediction to notes and create a midi file\r\n",
        "        from the notes\"\"\"\r\n",
        "        offset = 0\r\n",
        "        output_notes = []\r\n",
        "\r\n",
        "        # create note and chord objects based on the values generated by the model\r\n",
        "        for pattern in prediction_output:\r\n",
        "            # pattern is a chord\r\n",
        "            if (\".\" in pattern) or pattern.isdigit():\r\n",
        "                notes_in_chord = pattern.split(\".\")\r\n",
        "                notes = []\r\n",
        "                for current_note in notes_in_chord:\r\n",
        "                    new_note = note.Note(int(current_note))\r\n",
        "                    new_note.storedInstrument = instrument.Piano()\r\n",
        "                    notes.append(new_note)\r\n",
        "                new_chord = chord.Chord(notes)\r\n",
        "                new_chord.offset = offset\r\n",
        "                output_notes.append(new_chord)\r\n",
        "            # pattern is a note\r\n",
        "            else:\r\n",
        "                new_note = note.Note(pattern)\r\n",
        "                new_note.offset = offset\r\n",
        "                new_note.storedInstrument = instrument.Piano()\r\n",
        "                output_notes.append(new_note)\r\n",
        "\r\n",
        "            # increase offset each iteration so that notes do not stack\r\n",
        "            offset += 0.5\r\n",
        "\r\n",
        "        midi_stream = stream.Stream(output_notes)\r\n",
        "\r\n",
        "        midi_stream.write(\"midi\", fp=filename)\r\n"
      ],
      "outputs": [],
      "metadata": {}
    },
    {
      "cell_type": "code",
      "execution_count": 150,
      "source": [
        "seq_length = 2 **  n_note_encoding\r\n",
        "print(\"Initialized Midi\")\r\n",
        "midi = Midi(seq_length, running_dev)"
      ],
      "outputs": [
        {
          "output_type": "stream",
          "name": "stdout",
          "text": [
            "Initialized Midi\n",
            "torch.Size([44792, 64])\n",
            "Input shape: torch.Size([44792, 64])\n",
            "Output shape: torch.Size([44792])\n"
          ]
        }
      ],
      "metadata": {}
    },
    {
      "cell_type": "code",
      "execution_count": 182,
      "source": [
        "midi.input_norms[120]\r\n",
        "midi.network_input[120]\r\n",
        "midi.network_input[120]"
      ],
      "outputs": [
        {
          "output_type": "execute_result",
          "data": {
            "text/plain": [
              "tensor([0.1702, 0.0974, 0.1533, 0.0974, 0.0890, 0.1832, 0.0890, 0.1702, 0.0890,\n",
              "        0.1533, 0.0890, 0.1910, 0.0974, 0.1702, 0.0974, 0.1832, 0.0974, 0.1747,\n",
              "        0.0974, 0.1832, 0.0890, 0.1793, 0.0890, 0.1618, 0.0890, 0.0890, 0.1533,\n",
              "        0.0974, 0.0974, 0.0974, 0.0974, 0.0890, 0.0890, 0.0890, 0.0890, 0.0974,\n",
              "        0.0974, 0.0974, 0.0974, 0.1611, 0.0890, 0.1527, 0.0890, 0.1832, 0.0890,\n",
              "        0.0890, 0.1793, 0.0974, 0.0974, 0.0974, 0.0974, 0.0890, 0.0890, 0.0890,\n",
              "        0.0890, 0.0974, 0.0974, 0.0974, 0.0974, 0.1832, 0.0767, 0.1793, 0.1708,\n",
              "        0.1832], dtype=torch.float64)"
            ]
          },
          "metadata": {},
          "execution_count": 182
        }
      ],
      "metadata": {}
    },
    {
      "cell_type": "code",
      "execution_count": 152,
      "source": [
        "def real_music(notes):\r\n",
        "    AmplitudeEmbedding(features=notes, wires=encoding_range, normalize=True)\r\n",
        "\r\n",
        "def music_generator(weights):\r\n",
        "    BasicEntanglerLayers(weights, wires=encoding_range)\r\n",
        "\r\n",
        "def discriminator(weights):\r\n",
        "    StronglyEntanglingLayers(weights, wires=wires_range)\r\n",
        "\r\n",
        "def measurement():\r\n",
        "    obs = qml.PauliZ(0)\r\n",
        "    for i in range(1, n_wires):\r\n",
        "        obs = obs @ qml.PauliZ(i)\r\n",
        "    return qml.expval(obs)"
      ],
      "outputs": [],
      "metadata": {}
    },
    {
      "cell_type": "code",
      "execution_count": 153,
      "source": [
        "@qml.qnode(dev, interface=\"torch\")\r\n",
        "def real_music_discriminator(inputs, weights):\r\n",
        "    real_music(inputs)\r\n",
        "    discriminator(weights)\r\n",
        "    return measurement()\r\n",
        "\r\n",
        "@qml.qnode(dev, interface=\"torch\")\r\n",
        "def generated_music_discriminator(inputs, note_weights, weights):\r\n",
        "    music_generator(note_weights)\r\n",
        "    discriminator(weights)\r\n",
        "    return measurement()"
      ],
      "outputs": [],
      "metadata": {}
    },
    {
      "cell_type": "code",
      "execution_count": 154,
      "source": [
        "n_variational_layers = 3\r\n",
        "\r\n",
        "real_shapes = {\"weights\": (n_variational_layers, n_wires, 3)}\r\n",
        "\r\n",
        "real_layer = qml.qnn.TorchLayer(real_music_discriminator, real_shapes).to(running_dev)\r\n",
        "\r\n",
        "generated_shapes = {\r\n",
        "    \"weights\": (n_variational_layers, n_wires, 3),\r\n",
        "    \"note_weights\": (n_variational_layers, n_note_encoding),\r\n",
        "}\r\n",
        "\r\n",
        "generated_layer = qml.qnn.TorchLayer(generated_music_discriminator, generated_shapes).to(running_dev)"
      ],
      "outputs": [],
      "metadata": {}
    },
    {
      "cell_type": "code",
      "execution_count": 155,
      "source": [
        "def sync_weights(source_layer, target_layer):\r\n",
        "    \"\"\"Synchronize the weights of two layers\"\"\"\r\n",
        "    target_layer.weights = source_layer.weights"
      ],
      "outputs": [],
      "metadata": {}
    },
    {
      "cell_type": "code",
      "execution_count": 175,
      "source": [
        "generated_layer.weights = real_layer.weights"
      ],
      "outputs": [],
      "metadata": {}
    },
    {
      "cell_type": "code",
      "execution_count": 157,
      "source": [
        "def prob_fun_disc_true(layer):\r\n",
        "    def prob_true(inputs):\r\n",
        "        true_output = layer(inputs)\r\n",
        "        # Convert to probability\r\n",
        "        prob_true = (true_output + 1) / 2\r\n",
        "        return prob_true\r\n",
        "\r\n",
        "    return prob_true"
      ],
      "outputs": [],
      "metadata": {}
    },
    {
      "cell_type": "code",
      "execution_count": 168,
      "source": [
        "prob_real_true = prob_fun_disc_true(real_layer)\r\n",
        "prob_gen_true = prob_fun_disc_true(generated_layer)\r\n",
        "\r\n",
        "empty_input = torch.tensor(np.zeros((1,))).to(running_dev)\r\n",
        "\r\n",
        "def disc_cost(inputs):\r\n",
        "    return prob_gen_true(empty_input) - prob_real_true(inputs)\r\n",
        "\r\n",
        "def gen_cost():\r\n",
        "    return -prob_gen_true(empty_input)"
      ],
      "outputs": [],
      "metadata": {}
    },
    {
      "cell_type": "code",
      "execution_count": 203,
      "source": [
        "def gen_batch_inputs(batch_size=1):\r\n",
        "    return midi.network_input[\r\n",
        "        np.random.randint(0, len(midi.network_input), size=batch_size)\r\n",
        "    ]"
      ],
      "outputs": [],
      "metadata": {}
    },
    {
      "cell_type": "code",
      "execution_count": 204,
      "source": [
        "def discriminator_iteration(n_iterations, batch_size, learning_rate):\r\n",
        "\r\n",
        "    opt = torch.optim.Adam(real_layer.parameters(), lr=learning_rate)\r\n",
        "    best_cost = disc_cost(midi.network_input[0])\r\n",
        "    \r\n",
        "    for _ in range(n_iterations):\r\n",
        "        opt.zero_grad()\r\n",
        "        # Sample a batch of data\r\n",
        "        batch_inputs = gen_batch_inputs()\r\n",
        "        # batch_inputs = gen_batch_inputs(batch_size)\r\n",
        "        # batch_inputs = batch_inputs / midi.input_norms[:batch_size]\r\n",
        "        batch_inputs = batch_inputs.detach()\r\n",
        "        # Compute the loss\r\n",
        "        loss = disc_cost(batch_inputs)\r\n",
        "        # Backpropagate the loss\r\n",
        "        loss.backward()\r\n",
        "        # Update the weights\r\n",
        "        opt.step()\r\n",
        "        # Update the best cost\r\n",
        "        if loss < best_cost:\r\n",
        "            best_cost = loss\r\n",
        "            print(\"New best Discriminator cost:\", best_cost)"
      ],
      "outputs": [],
      "metadata": {}
    },
    {
      "cell_type": "code",
      "execution_count": 205,
      "source": [
        "def generator_iteration(n_iterations, learning_rate):\r\n",
        "    opt = torch.optim.Adam(generated_layer.parameters(), lr=learning_rate)\r\n",
        "    best_cost = gen_cost()\r\n",
        "    \r\n",
        "    for _ in range(n_iterations):\r\n",
        "        opt.zero_grad()\r\n",
        "        # Compute the loss\r\n",
        "        loss = gen_cost()\r\n",
        "        # Backpropagate the loss\r\n",
        "        loss.backward()\r\n",
        "        # Update the weights\r\n",
        "        opt.step()\r\n",
        "        # Update the best cost\r\n",
        "        if loss < best_cost:\r\n",
        "            best_cost = loss\r\n",
        "            print(\"New best Generator cost:\", best_cost)"
      ],
      "outputs": [],
      "metadata": {}
    },
    {
      "cell_type": "code",
      "execution_count": 207,
      "source": [
        "# The real iteration\r\n",
        "steps = 100\r\n",
        "n_iterations = 100\r\n",
        "learning_rate = 0.01\r\n",
        "batch_size = 3\r\n",
        "\r\n",
        "for _ in range(steps):\r\n",
        "    discriminator_iteration(n_iterations, batch_size, learning_rate)\r\n",
        "    sync_weights(real_layer, generated_layer)\r\n",
        "    generator_iteration(n_iterations, learning_rate)"
      ],
      "outputs": [],
      "metadata": {}
    },
    {
      "cell_type": "code",
      "execution_count": 171,
      "source": [
        "steps = 100\r\n",
        "learning_rate = 0.01\r\n",
        "\r\n",
        "# Training the discriminator\r\n",
        "opt = torch.optim.Adam(real_layer.parameters(), lr=learning_rate)\r\n",
        "best_cost = disc_cost(midi.network_input[0])\r\n",
        "\r\n",
        "for i in range(steps):\r\n",
        "    opt.zero_grad()\r\n",
        "    cost = disc_cost(midi.network_input[0])\r\n",
        "    cost.backward()\r\n",
        "    opt.step()\r\n",
        "    if cost < best_cost:\r\n",
        "        best_cost = cost\r\n",
        "    \r\n",
        "    if i % 10 == 9 or i == steps - 1:\r\n",
        "        print(\"Step {}: Cost = {}\".format(i + 1, cost))"
      ],
      "outputs": [
        {
          "output_type": "stream",
          "name": "stdout",
          "text": [
            "Step 10: Cost = -0.21044705564375155\n",
            "Step 20: Cost = -0.2956607206036578\n",
            "Step 30: Cost = -0.3632238684045632\n",
            "Step 40: Cost = -0.4055262398664411\n",
            "Step 50: Cost = -0.4272241644579412\n",
            "Step 60: Cost = -0.4369314413286276\n",
            "Step 70: Cost = -0.4408592439583635\n"
          ]
        },
        {
          "output_type": "error",
          "ename": "KeyboardInterrupt",
          "evalue": "",
          "traceback": [
            "\u001b[1;31m---------------------------------------------------------------------------\u001b[0m",
            "\u001b[1;31mKeyboardInterrupt\u001b[0m                         Traceback (most recent call last)",
            "\u001b[1;32m~\\AppData\\Local\\Temp/ipykernel_5000/2401039057.py\u001b[0m in \u001b[0;36m<module>\u001b[1;34m\u001b[0m\n\u001b[0;32m      9\u001b[0m     \u001b[0mopt\u001b[0m\u001b[1;33m.\u001b[0m\u001b[0mzero_grad\u001b[0m\u001b[1;33m(\u001b[0m\u001b[1;33m)\u001b[0m\u001b[1;33m\u001b[0m\u001b[1;33m\u001b[0m\u001b[0m\n\u001b[0;32m     10\u001b[0m     \u001b[0mcost\u001b[0m \u001b[1;33m=\u001b[0m \u001b[0mdisc_cost\u001b[0m\u001b[1;33m(\u001b[0m\u001b[0mmidi\u001b[0m\u001b[1;33m.\u001b[0m\u001b[0mnetwork_input\u001b[0m\u001b[1;33m[\u001b[0m\u001b[1;36m0\u001b[0m\u001b[1;33m]\u001b[0m\u001b[1;33m)\u001b[0m\u001b[1;33m\u001b[0m\u001b[1;33m\u001b[0m\u001b[0m\n\u001b[1;32m---> 11\u001b[1;33m     \u001b[0mcost\u001b[0m\u001b[1;33m.\u001b[0m\u001b[0mbackward\u001b[0m\u001b[1;33m(\u001b[0m\u001b[1;33m)\u001b[0m\u001b[1;33m\u001b[0m\u001b[1;33m\u001b[0m\u001b[0m\n\u001b[0m\u001b[0;32m     12\u001b[0m     \u001b[0mopt\u001b[0m\u001b[1;33m.\u001b[0m\u001b[0mstep\u001b[0m\u001b[1;33m(\u001b[0m\u001b[1;33m)\u001b[0m\u001b[1;33m\u001b[0m\u001b[1;33m\u001b[0m\u001b[0m\n\u001b[0;32m     13\u001b[0m     \u001b[1;32mif\u001b[0m \u001b[0mcost\u001b[0m \u001b[1;33m<\u001b[0m \u001b[0mbest_cost\u001b[0m\u001b[1;33m:\u001b[0m\u001b[1;33m\u001b[0m\u001b[1;33m\u001b[0m\u001b[0m\n",
            "\u001b[1;32md:\\TheRe\\Desktop\\BSc Project\\Maqenta\\venv\\lib\\site-packages\\torch\\_tensor.py\u001b[0m in \u001b[0;36mbackward\u001b[1;34m(self, gradient, retain_graph, create_graph, inputs)\u001b[0m\n\u001b[0;32m    253\u001b[0m                 \u001b[0mcreate_graph\u001b[0m\u001b[1;33m=\u001b[0m\u001b[0mcreate_graph\u001b[0m\u001b[1;33m,\u001b[0m\u001b[1;33m\u001b[0m\u001b[1;33m\u001b[0m\u001b[0m\n\u001b[0;32m    254\u001b[0m                 inputs=inputs)\n\u001b[1;32m--> 255\u001b[1;33m         \u001b[0mtorch\u001b[0m\u001b[1;33m.\u001b[0m\u001b[0mautograd\u001b[0m\u001b[1;33m.\u001b[0m\u001b[0mbackward\u001b[0m\u001b[1;33m(\u001b[0m\u001b[0mself\u001b[0m\u001b[1;33m,\u001b[0m \u001b[0mgradient\u001b[0m\u001b[1;33m,\u001b[0m \u001b[0mretain_graph\u001b[0m\u001b[1;33m,\u001b[0m \u001b[0mcreate_graph\u001b[0m\u001b[1;33m,\u001b[0m \u001b[0minputs\u001b[0m\u001b[1;33m=\u001b[0m\u001b[0minputs\u001b[0m\u001b[1;33m)\u001b[0m\u001b[1;33m\u001b[0m\u001b[1;33m\u001b[0m\u001b[0m\n\u001b[0m\u001b[0;32m    256\u001b[0m \u001b[1;33m\u001b[0m\u001b[0m\n\u001b[0;32m    257\u001b[0m     \u001b[1;32mdef\u001b[0m \u001b[0mregister_hook\u001b[0m\u001b[1;33m(\u001b[0m\u001b[0mself\u001b[0m\u001b[1;33m,\u001b[0m \u001b[0mhook\u001b[0m\u001b[1;33m)\u001b[0m\u001b[1;33m:\u001b[0m\u001b[1;33m\u001b[0m\u001b[1;33m\u001b[0m\u001b[0m\n",
            "\u001b[1;32md:\\TheRe\\Desktop\\BSc Project\\Maqenta\\venv\\lib\\site-packages\\torch\\autograd\\__init__.py\u001b[0m in \u001b[0;36mbackward\u001b[1;34m(tensors, grad_tensors, retain_graph, create_graph, grad_variables, inputs)\u001b[0m\n\u001b[0;32m    145\u001b[0m         \u001b[0mretain_graph\u001b[0m \u001b[1;33m=\u001b[0m \u001b[0mcreate_graph\u001b[0m\u001b[1;33m\u001b[0m\u001b[1;33m\u001b[0m\u001b[0m\n\u001b[0;32m    146\u001b[0m \u001b[1;33m\u001b[0m\u001b[0m\n\u001b[1;32m--> 147\u001b[1;33m     Variable._execution_engine.run_backward(\n\u001b[0m\u001b[0;32m    148\u001b[0m         \u001b[0mtensors\u001b[0m\u001b[1;33m,\u001b[0m \u001b[0mgrad_tensors_\u001b[0m\u001b[1;33m,\u001b[0m \u001b[0mretain_graph\u001b[0m\u001b[1;33m,\u001b[0m \u001b[0mcreate_graph\u001b[0m\u001b[1;33m,\u001b[0m \u001b[0minputs\u001b[0m\u001b[1;33m,\u001b[0m\u001b[1;33m\u001b[0m\u001b[1;33m\u001b[0m\u001b[0m\n\u001b[0;32m    149\u001b[0m         allow_unreachable=True, accumulate_grad=True)  # allow_unreachable flag\n",
            "\u001b[1;32md:\\TheRe\\Desktop\\BSc Project\\Maqenta\\venv\\lib\\site-packages\\torch\\autograd\\function.py\u001b[0m in \u001b[0;36mapply\u001b[1;34m(self, *args)\u001b[0m\n\u001b[0;32m     85\u001b[0m     \u001b[1;32mdef\u001b[0m \u001b[0mapply\u001b[0m\u001b[1;33m(\u001b[0m\u001b[0mself\u001b[0m\u001b[1;33m,\u001b[0m \u001b[1;33m*\u001b[0m\u001b[0margs\u001b[0m\u001b[1;33m)\u001b[0m\u001b[1;33m:\u001b[0m\u001b[1;33m\u001b[0m\u001b[1;33m\u001b[0m\u001b[0m\n\u001b[0;32m     86\u001b[0m         \u001b[1;31m# _forward_cls is defined by derived class\u001b[0m\u001b[1;33m\u001b[0m\u001b[1;33m\u001b[0m\u001b[1;33m\u001b[0m\u001b[0m\n\u001b[1;32m---> 87\u001b[1;33m         \u001b[1;32mreturn\u001b[0m \u001b[0mself\u001b[0m\u001b[1;33m.\u001b[0m\u001b[0m_forward_cls\u001b[0m\u001b[1;33m.\u001b[0m\u001b[0mbackward\u001b[0m\u001b[1;33m(\u001b[0m\u001b[0mself\u001b[0m\u001b[1;33m,\u001b[0m \u001b[1;33m*\u001b[0m\u001b[0margs\u001b[0m\u001b[1;33m)\u001b[0m  \u001b[1;31m# type: ignore[attr-defined]\u001b[0m\u001b[1;33m\u001b[0m\u001b[1;33m\u001b[0m\u001b[0m\n\u001b[0m\u001b[0;32m     88\u001b[0m \u001b[1;33m\u001b[0m\u001b[0m\n\u001b[0;32m     89\u001b[0m \u001b[1;33m\u001b[0m\u001b[0m\n",
            "\u001b[1;32md:\\TheRe\\Desktop\\BSc Project\\Maqenta\\venv\\lib\\site-packages\\pennylane\\interfaces\\torch.py\u001b[0m in \u001b[0;36mbackward\u001b[1;34m(ctx, dy)\u001b[0m\n\u001b[0;32m    188\u001b[0m \u001b[1;33m\u001b[0m\u001b[0m\n\u001b[0;32m    189\u001b[0m         \u001b[0mdyv\u001b[0m \u001b[1;33m=\u001b[0m \u001b[0mdy\u001b[0m\u001b[1;33m.\u001b[0m\u001b[0mview\u001b[0m\u001b[1;33m(\u001b[0m\u001b[1;36m1\u001b[0m\u001b[1;33m,\u001b[0m \u001b[1;33m-\u001b[0m\u001b[1;36m1\u001b[0m\u001b[1;33m)\u001b[0m\u001b[1;33m\u001b[0m\u001b[1;33m\u001b[0m\u001b[0m\n\u001b[1;32m--> 190\u001b[1;33m         \u001b[0mjac_res\u001b[0m \u001b[1;33m=\u001b[0m \u001b[0mctx\u001b[0m\u001b[1;33m.\u001b[0m\u001b[0mjacobian\u001b[0m\u001b[1;33m.\u001b[0m\u001b[0mapply\u001b[0m\u001b[1;33m(\u001b[0m\u001b[0mctx\u001b[0m\u001b[1;33m,\u001b[0m \u001b[1;33m*\u001b[0m\u001b[0mctx\u001b[0m\u001b[1;33m.\u001b[0m\u001b[0msaved_tensors\u001b[0m\u001b[1;33m)\u001b[0m\u001b[1;33m\u001b[0m\u001b[1;33m\u001b[0m\u001b[0m\n\u001b[0m\u001b[0;32m    191\u001b[0m \u001b[1;33m\u001b[0m\u001b[0m\n\u001b[0;32m    192\u001b[0m         \u001b[1;31m# When using CUDA, dyv seems to remain on the GPU, while the result\u001b[0m\u001b[1;33m\u001b[0m\u001b[1;33m\u001b[0m\u001b[1;33m\u001b[0m\u001b[0m\n",
            "\u001b[1;32md:\\TheRe\\Desktop\\BSc Project\\Maqenta\\venv\\lib\\site-packages\\pennylane\\interfaces\\torch.py\u001b[0m in \u001b[0;36mforward\u001b[1;34m(ctx_, parent_ctx, *input_)\u001b[0m\n\u001b[0;32m    135\u001b[0m                 \u001b[0mctx_\u001b[0m\u001b[1;33m.\u001b[0m\u001b[0mdy\u001b[0m \u001b[1;33m=\u001b[0m \u001b[0mparent_ctx\u001b[0m\u001b[1;33m.\u001b[0m\u001b[0mdy\u001b[0m\u001b[1;33m\u001b[0m\u001b[1;33m\u001b[0m\u001b[0m\n\u001b[0;32m    136\u001b[0m                 \u001b[0mctx_\u001b[0m\u001b[1;33m.\u001b[0m\u001b[0msave_for_backward\u001b[0m\u001b[1;33m(\u001b[0m\u001b[1;33m*\u001b[0m\u001b[0minput_\u001b[0m\u001b[1;33m)\u001b[0m\u001b[1;33m\u001b[0m\u001b[1;33m\u001b[0m\u001b[0m\n\u001b[1;32m--> 137\u001b[1;33m                 \u001b[0mjacobian\u001b[0m \u001b[1;33m=\u001b[0m \u001b[0m_evaluate_grad_matrix\u001b[0m\u001b[1;33m(\u001b[0m\u001b[1;34m\"jacobian\"\u001b[0m\u001b[1;33m)\u001b[0m\u001b[1;33m\u001b[0m\u001b[1;33m\u001b[0m\u001b[0m\n\u001b[0m\u001b[0;32m    138\u001b[0m                 \u001b[1;32mreturn\u001b[0m \u001b[0mjacobian\u001b[0m\u001b[1;33m\u001b[0m\u001b[1;33m\u001b[0m\u001b[0m\n\u001b[0;32m    139\u001b[0m \u001b[1;33m\u001b[0m\u001b[0m\n",
            "\u001b[1;32md:\\TheRe\\Desktop\\BSc Project\\Maqenta\\venv\\lib\\site-packages\\pennylane\\interfaces\\torch.py\u001b[0m in \u001b[0;36m_evaluate_grad_matrix\u001b[1;34m(grad_matrix_fn)\u001b[0m\n\u001b[0;32m    119\u001b[0m \u001b[1;33m\u001b[0m\u001b[0m\n\u001b[0;32m    120\u001b[0m             \u001b[0mtape\u001b[0m\u001b[1;33m.\u001b[0m\u001b[0mset_parameters\u001b[0m\u001b[1;33m(\u001b[0m\u001b[0mctx\u001b[0m\u001b[1;33m.\u001b[0m\u001b[0mall_params_unwrapped\u001b[0m\u001b[1;33m,\u001b[0m \u001b[0mtrainable_only\u001b[0m\u001b[1;33m=\u001b[0m\u001b[1;32mFalse\u001b[0m\u001b[1;33m)\u001b[0m\u001b[1;33m\u001b[0m\u001b[1;33m\u001b[0m\u001b[0m\n\u001b[1;32m--> 121\u001b[1;33m             grad_matrix = getattr(tape, grad_matrix_fn)(\n\u001b[0m\u001b[0;32m    122\u001b[0m                 \u001b[0mdevice\u001b[0m\u001b[1;33m,\u001b[0m \u001b[0mparams\u001b[0m\u001b[1;33m=\u001b[0m\u001b[0mctx\u001b[0m\u001b[1;33m.\u001b[0m\u001b[0margs\u001b[0m\u001b[1;33m,\u001b[0m \u001b[1;33m**\u001b[0m\u001b[0mtape\u001b[0m\u001b[1;33m.\u001b[0m\u001b[0mjacobian_options\u001b[0m\u001b[1;33m\u001b[0m\u001b[1;33m\u001b[0m\u001b[0m\n\u001b[0;32m    123\u001b[0m             )\n",
            "\u001b[1;32md:\\TheRe\\Desktop\\BSc Project\\Maqenta\\venv\\lib\\site-packages\\pennylane\\tape\\qubit_param_shift.py\u001b[0m in \u001b[0;36mjacobian\u001b[1;34m(self, device, params, **options)\u001b[0m\n\u001b[0;32m    128\u001b[0m         \u001b[0mself\u001b[0m\u001b[1;33m.\u001b[0m\u001b[0m_append_evA_tape\u001b[0m \u001b[1;33m=\u001b[0m \u001b[1;32mTrue\u001b[0m\u001b[1;33m\u001b[0m\u001b[1;33m\u001b[0m\u001b[0m\n\u001b[0;32m    129\u001b[0m         \u001b[0mself\u001b[0m\u001b[1;33m.\u001b[0m\u001b[0m_evA_result\u001b[0m \u001b[1;33m=\u001b[0m \u001b[1;32mNone\u001b[0m\u001b[1;33m\u001b[0m\u001b[1;33m\u001b[0m\u001b[0m\n\u001b[1;32m--> 130\u001b[1;33m         \u001b[1;32mreturn\u001b[0m \u001b[0msuper\u001b[0m\u001b[1;33m(\u001b[0m\u001b[1;33m)\u001b[0m\u001b[1;33m.\u001b[0m\u001b[0mjacobian\u001b[0m\u001b[1;33m(\u001b[0m\u001b[0mdevice\u001b[0m\u001b[1;33m,\u001b[0m \u001b[0mparams\u001b[0m\u001b[1;33m,\u001b[0m \u001b[1;33m**\u001b[0m\u001b[0moptions\u001b[0m\u001b[1;33m)\u001b[0m\u001b[1;33m\u001b[0m\u001b[1;33m\u001b[0m\u001b[0m\n\u001b[0m\u001b[0;32m    131\u001b[0m \u001b[1;33m\u001b[0m\u001b[0m\n\u001b[0;32m    132\u001b[0m     \u001b[1;32mdef\u001b[0m \u001b[0mparameter_shift\u001b[0m\u001b[1;33m(\u001b[0m\u001b[0mself\u001b[0m\u001b[1;33m,\u001b[0m \u001b[0midx\u001b[0m\u001b[1;33m,\u001b[0m \u001b[0mparams\u001b[0m\u001b[1;33m,\u001b[0m \u001b[1;33m**\u001b[0m\u001b[0moptions\u001b[0m\u001b[1;33m)\u001b[0m\u001b[1;33m:\u001b[0m\u001b[1;33m\u001b[0m\u001b[1;33m\u001b[0m\u001b[0m\n",
            "\u001b[1;32md:\\TheRe\\Desktop\\BSc Project\\Maqenta\\venv\\lib\\site-packages\\pennylane\\tape\\jacobian_tape.py\u001b[0m in \u001b[0;36mjacobian\u001b[1;34m(self, device, params, **options)\u001b[0m\n\u001b[0;32m    623\u001b[0m \u001b[1;33m\u001b[0m\u001b[0m\n\u001b[0;32m    624\u001b[0m         \u001b[1;31m# execute all tapes at once\u001b[0m\u001b[1;33m\u001b[0m\u001b[1;33m\u001b[0m\u001b[1;33m\u001b[0m\u001b[0m\n\u001b[1;32m--> 625\u001b[1;33m         \u001b[0mresults\u001b[0m \u001b[1;33m=\u001b[0m \u001b[0mdevice\u001b[0m\u001b[1;33m.\u001b[0m\u001b[0mbatch_execute\u001b[0m\u001b[1;33m(\u001b[0m\u001b[0mall_tapes\u001b[0m\u001b[1;33m)\u001b[0m\u001b[1;33m\u001b[0m\u001b[1;33m\u001b[0m\u001b[0m\n\u001b[0m\u001b[0;32m    626\u001b[0m \u001b[1;33m\u001b[0m\u001b[0m\n\u001b[0;32m    627\u001b[0m         \u001b[1;31m# post-process the results with the appropriate function to fill jacobian columns with gradients\u001b[0m\u001b[1;33m\u001b[0m\u001b[1;33m\u001b[0m\u001b[1;33m\u001b[0m\u001b[0m\n",
            "\u001b[1;32md:\\TheRe\\Desktop\\BSc Project\\Maqenta\\venv\\lib\\site-packages\\pennylane\\_qubit_device.py\u001b[0m in \u001b[0;36mbatch_execute\u001b[1;34m(self, circuits)\u001b[0m\n\u001b[0;32m    276\u001b[0m             \u001b[0mself\u001b[0m\u001b[1;33m.\u001b[0m\u001b[0mreset\u001b[0m\u001b[1;33m(\u001b[0m\u001b[1;33m)\u001b[0m\u001b[1;33m\u001b[0m\u001b[1;33m\u001b[0m\u001b[0m\n\u001b[0;32m    277\u001b[0m \u001b[1;33m\u001b[0m\u001b[0m\n\u001b[1;32m--> 278\u001b[1;33m             \u001b[0mres\u001b[0m \u001b[1;33m=\u001b[0m \u001b[0mself\u001b[0m\u001b[1;33m.\u001b[0m\u001b[0mexecute\u001b[0m\u001b[1;33m(\u001b[0m\u001b[0mcircuit\u001b[0m\u001b[1;33m)\u001b[0m\u001b[1;33m\u001b[0m\u001b[1;33m\u001b[0m\u001b[0m\n\u001b[0m\u001b[0;32m    279\u001b[0m             \u001b[0mresults\u001b[0m\u001b[1;33m.\u001b[0m\u001b[0mappend\u001b[0m\u001b[1;33m(\u001b[0m\u001b[0mres\u001b[0m\u001b[1;33m)\u001b[0m\u001b[1;33m\u001b[0m\u001b[1;33m\u001b[0m\u001b[0m\n\u001b[0;32m    280\u001b[0m \u001b[1;33m\u001b[0m\u001b[0m\n",
            "\u001b[1;32md:\\TheRe\\Desktop\\BSc Project\\Maqenta\\venv\\lib\\site-packages\\pennylane\\_qubit_device.py\u001b[0m in \u001b[0;36mexecute\u001b[1;34m(self, circuit, **kwargs)\u001b[0m\n\u001b[0;32m    192\u001b[0m \u001b[1;33m\u001b[0m\u001b[0m\n\u001b[0;32m    193\u001b[0m         \u001b[1;31m# apply all circuit operations\u001b[0m\u001b[1;33m\u001b[0m\u001b[1;33m\u001b[0m\u001b[1;33m\u001b[0m\u001b[0m\n\u001b[1;32m--> 194\u001b[1;33m         \u001b[0mself\u001b[0m\u001b[1;33m.\u001b[0m\u001b[0mapply\u001b[0m\u001b[1;33m(\u001b[0m\u001b[0mcircuit\u001b[0m\u001b[1;33m.\u001b[0m\u001b[0moperations\u001b[0m\u001b[1;33m,\u001b[0m \u001b[0mrotations\u001b[0m\u001b[1;33m=\u001b[0m\u001b[0mcircuit\u001b[0m\u001b[1;33m.\u001b[0m\u001b[0mdiagonalizing_gates\u001b[0m\u001b[1;33m,\u001b[0m \u001b[1;33m**\u001b[0m\u001b[0mkwargs\u001b[0m\u001b[1;33m)\u001b[0m\u001b[1;33m\u001b[0m\u001b[1;33m\u001b[0m\u001b[0m\n\u001b[0m\u001b[0;32m    195\u001b[0m \u001b[1;33m\u001b[0m\u001b[0m\n\u001b[0;32m    196\u001b[0m         \u001b[1;31m# generate computational basis samples\u001b[0m\u001b[1;33m\u001b[0m\u001b[1;33m\u001b[0m\u001b[1;33m\u001b[0m\u001b[0m\n",
            "\u001b[1;32md:\\TheRe\\Desktop\\BSc Project\\Maqenta\\venv\\lib\\site-packages\\pennylane\\devices\\default_qubit.py\u001b[0m in \u001b[0;36mapply\u001b[1;34m(self, operations, rotations, **kwargs)\u001b[0m\n\u001b[0;32m    210\u001b[0m                 \u001b[0mself\u001b[0m\u001b[1;33m.\u001b[0m\u001b[0m_apply_basis_state\u001b[0m\u001b[1;33m(\u001b[0m\u001b[0moperation\u001b[0m\u001b[1;33m.\u001b[0m\u001b[0mparameters\u001b[0m\u001b[1;33m[\u001b[0m\u001b[1;36m0\u001b[0m\u001b[1;33m]\u001b[0m\u001b[1;33m,\u001b[0m \u001b[0moperation\u001b[0m\u001b[1;33m.\u001b[0m\u001b[0mwires\u001b[0m\u001b[1;33m)\u001b[0m\u001b[1;33m\u001b[0m\u001b[1;33m\u001b[0m\u001b[0m\n\u001b[0;32m    211\u001b[0m             \u001b[1;32melse\u001b[0m\u001b[1;33m:\u001b[0m\u001b[1;33m\u001b[0m\u001b[1;33m\u001b[0m\u001b[0m\n\u001b[1;32m--> 212\u001b[1;33m                 \u001b[0mself\u001b[0m\u001b[1;33m.\u001b[0m\u001b[0m_state\u001b[0m \u001b[1;33m=\u001b[0m \u001b[0mself\u001b[0m\u001b[1;33m.\u001b[0m\u001b[0m_apply_operation\u001b[0m\u001b[1;33m(\u001b[0m\u001b[0mself\u001b[0m\u001b[1;33m.\u001b[0m\u001b[0m_state\u001b[0m\u001b[1;33m,\u001b[0m \u001b[0moperation\u001b[0m\u001b[1;33m)\u001b[0m\u001b[1;33m\u001b[0m\u001b[1;33m\u001b[0m\u001b[0m\n\u001b[0m\u001b[0;32m    213\u001b[0m \u001b[1;33m\u001b[0m\u001b[0m\n\u001b[0;32m    214\u001b[0m         \u001b[1;31m# store the pre-rotated state\u001b[0m\u001b[1;33m\u001b[0m\u001b[1;33m\u001b[0m\u001b[1;33m\u001b[0m\u001b[0m\n",
            "\u001b[1;32md:\\TheRe\\Desktop\\BSc Project\\Maqenta\\venv\\lib\\site-packages\\pennylane\\devices\\default_qubit.py\u001b[0m in \u001b[0;36m_apply_operation\u001b[1;34m(self, state, operation)\u001b[0m\n\u001b[0;32m    241\u001b[0m         \u001b[1;32mif\u001b[0m \u001b[0mlen\u001b[0m\u001b[1;33m(\u001b[0m\u001b[0mwires\u001b[0m\u001b[1;33m)\u001b[0m \u001b[1;33m<=\u001b[0m \u001b[1;36m2\u001b[0m\u001b[1;33m:\u001b[0m\u001b[1;33m\u001b[0m\u001b[1;33m\u001b[0m\u001b[0m\n\u001b[0;32m    242\u001b[0m             \u001b[1;31m# Einsum is faster for small gates\u001b[0m\u001b[1;33m\u001b[0m\u001b[1;33m\u001b[0m\u001b[1;33m\u001b[0m\u001b[0m\n\u001b[1;32m--> 243\u001b[1;33m             \u001b[1;32mreturn\u001b[0m \u001b[0mself\u001b[0m\u001b[1;33m.\u001b[0m\u001b[0m_apply_unitary_einsum\u001b[0m\u001b[1;33m(\u001b[0m\u001b[0mstate\u001b[0m\u001b[1;33m,\u001b[0m \u001b[0mmatrix\u001b[0m\u001b[1;33m,\u001b[0m \u001b[0mwires\u001b[0m\u001b[1;33m)\u001b[0m\u001b[1;33m\u001b[0m\u001b[1;33m\u001b[0m\u001b[0m\n\u001b[0m\u001b[0;32m    244\u001b[0m \u001b[1;33m\u001b[0m\u001b[0m\n\u001b[0;32m    245\u001b[0m         \u001b[1;32mreturn\u001b[0m \u001b[0mself\u001b[0m\u001b[1;33m.\u001b[0m\u001b[0m_apply_unitary\u001b[0m\u001b[1;33m(\u001b[0m\u001b[0mstate\u001b[0m\u001b[1;33m,\u001b[0m \u001b[0mmatrix\u001b[0m\u001b[1;33m,\u001b[0m \u001b[0mwires\u001b[0m\u001b[1;33m)\u001b[0m\u001b[1;33m\u001b[0m\u001b[1;33m\u001b[0m\u001b[0m\n",
            "\u001b[1;32md:\\TheRe\\Desktop\\BSc Project\\Maqenta\\venv\\lib\\site-packages\\pennylane\\devices\\default_qubit.py\u001b[0m in \u001b[0;36m_apply_unitary_einsum\u001b[1;34m(self, state, mat, wires)\u001b[0m\n\u001b[0;32m    703\u001b[0m         )\n\u001b[0;32m    704\u001b[0m \u001b[1;33m\u001b[0m\u001b[0m\n\u001b[1;32m--> 705\u001b[1;33m         \u001b[1;32mreturn\u001b[0m \u001b[0mself\u001b[0m\u001b[1;33m.\u001b[0m\u001b[0m_einsum\u001b[0m\u001b[1;33m(\u001b[0m\u001b[0meinsum_indices\u001b[0m\u001b[1;33m,\u001b[0m \u001b[0mmat\u001b[0m\u001b[1;33m,\u001b[0m \u001b[0mstate\u001b[0m\u001b[1;33m)\u001b[0m\u001b[1;33m\u001b[0m\u001b[1;33m\u001b[0m\u001b[0m\n\u001b[0m\u001b[0;32m    706\u001b[0m \u001b[1;33m\u001b[0m\u001b[0m\n\u001b[0;32m    707\u001b[0m     \u001b[1;32mdef\u001b[0m \u001b[0m_apply_diagonal_unitary\u001b[0m\u001b[1;33m(\u001b[0m\u001b[0mself\u001b[0m\u001b[1;33m,\u001b[0m \u001b[0mstate\u001b[0m\u001b[1;33m,\u001b[0m \u001b[0mphases\u001b[0m\u001b[1;33m,\u001b[0m \u001b[0mwires\u001b[0m\u001b[1;33m)\u001b[0m\u001b[1;33m:\u001b[0m\u001b[1;33m\u001b[0m\u001b[1;33m\u001b[0m\u001b[0m\n",
            "\u001b[1;32m<__array_function__ internals>\u001b[0m in \u001b[0;36meinsum\u001b[1;34m(*args, **kwargs)\u001b[0m\n",
            "\u001b[1;32md:\\TheRe\\Desktop\\BSc Project\\Maqenta\\venv\\lib\\site-packages\\numpy\\core\\einsumfunc.py\u001b[0m in \u001b[0;36meinsum\u001b[1;34m(out, optimize, *operands, **kwargs)\u001b[0m\n\u001b[0;32m   1357\u001b[0m         \u001b[1;32mif\u001b[0m \u001b[0mspecified_out\u001b[0m\u001b[1;33m:\u001b[0m\u001b[1;33m\u001b[0m\u001b[1;33m\u001b[0m\u001b[0m\n\u001b[0;32m   1358\u001b[0m             \u001b[0mkwargs\u001b[0m\u001b[1;33m[\u001b[0m\u001b[1;34m'out'\u001b[0m\u001b[1;33m]\u001b[0m \u001b[1;33m=\u001b[0m \u001b[0mout\u001b[0m\u001b[1;33m\u001b[0m\u001b[1;33m\u001b[0m\u001b[0m\n\u001b[1;32m-> 1359\u001b[1;33m         \u001b[1;32mreturn\u001b[0m \u001b[0mc_einsum\u001b[0m\u001b[1;33m(\u001b[0m\u001b[1;33m*\u001b[0m\u001b[0moperands\u001b[0m\u001b[1;33m,\u001b[0m \u001b[1;33m**\u001b[0m\u001b[0mkwargs\u001b[0m\u001b[1;33m)\u001b[0m\u001b[1;33m\u001b[0m\u001b[1;33m\u001b[0m\u001b[0m\n\u001b[0m\u001b[0;32m   1360\u001b[0m \u001b[1;33m\u001b[0m\u001b[0m\n\u001b[0;32m   1361\u001b[0m     \u001b[1;31m# Check the kwargs to avoid a more cryptic error later, without having to\u001b[0m\u001b[1;33m\u001b[0m\u001b[1;33m\u001b[0m\u001b[1;33m\u001b[0m\u001b[0m\n",
            "\u001b[1;31mKeyboardInterrupt\u001b[0m: "
          ]
        }
      ],
      "metadata": {}
    },
    {
      "cell_type": "code",
      "execution_count": 17,
      "source": [
        "circuit(midi.network_input[0].reshape(64))"
      ],
      "outputs": [
        {
          "output_type": "execute_result",
          "data": {
            "text/plain": [
              "tensor([-0.24559963, -0.07313006, -0.12988893, -0.05583117,  0.03701939,\n",
              "         0.05884297], requires_grad=True)"
            ]
          },
          "metadata": {},
          "execution_count": 17
        }
      ],
      "metadata": {}
    },
    {
      "cell_type": "code",
      "execution_count": null,
      "source": [
        "opt = tf.keras.optimizers.SGD(0.4)"
      ],
      "outputs": [],
      "metadata": {
        "id": "vfPA7AzMfA-l"
      }
    },
    {
      "cell_type": "code",
      "execution_count": null,
      "source": [
        "def disc_iteration():\r\n",
        "  cost = lambda: disc_cost(disc_weights)\r\n",
        "\r\n",
        "  print(\"####### Minimizing discriminator cost #######\")\r\n",
        "\r\n",
        "  for step in range(50):\r\n",
        "    opt.minimize(cost, disc_weights)\r\n",
        "    \r\n",
        "    if step % 5 == 0:\r\n",
        "      cost_val = cost().numpy()\r\n",
        "      print(\"Step {}: cost = {}\".format(step, cost_val))\r\n",
        "\r\n",
        "  print(\"####### Finished minimizing discriminator cost #######\")\r\n",
        "\r\n",
        "  print(\"Prob(real classified as real): \", prob_real_true(disc_weights).numpy())\r\n",
        "  print(\"Prob(fake classified as real): \", prob_fake_true(gen_weights, disc_weights).numpy())"
      ],
      "outputs": [],
      "metadata": {
        "id": "1aQi_fx6fIzW"
      }
    },
    {
      "cell_type": "code",
      "execution_count": null,
      "source": [
        "def gen_iteration():\r\n",
        "  cost = lambda: gen_cost(gen_weights)\r\n",
        "\r\n",
        "  print(\"####### Minimizing generator cost #######\")\r\n",
        "\r\n",
        "  for step in range(50):\r\n",
        "    opt.minimize(cost, gen_weights)\r\n",
        "    if step % 5 == 0:\r\n",
        "      cost_val = cost().numpy()\r\n",
        "      print(\"Step {}: cost = {}\".format(step, cost_val))\r\n",
        "\r\n",
        "  print(\"####### Finished minimizing generator cost #######\")\r\n",
        "\r\n",
        "  print(\"Prob(fake classified as real): \", prob_fake_true(gen_weights, disc_weights).numpy())"
      ],
      "outputs": [],
      "metadata": {
        "id": "LDVxsE--hnU7"
      }
    },
    {
      "cell_type": "code",
      "execution_count": null,
      "source": [
        "def compare_data():\r\n",
        "\r\n",
        "  obs = [qml.PauliX(0), qml.PauliY(0), qml.PauliZ(0)]\r\n",
        "\r\n",
        "  bloch_vector_real = qml.map(real_data, obs, dev, interface=\"tf\")\r\n",
        "  bloch_vector_generator = qml.map(generator, obs, dev, interface=\"tf\")\r\n",
        "\r\n",
        "  print(\"Real Bloch vector: {}\".format(bloch_vector_real([phi, theta, omega])))\r\n",
        "  print(\"Generator Bloch vector: {}\".format(bloch_vector_generator(gen_weights)))"
      ],
      "outputs": [],
      "metadata": {
        "id": "d3CI-UasiE0H"
      }
    },
    {
      "cell_type": "code",
      "execution_count": null,
      "source": [
        "# The training loop\r\n",
        "\r\n",
        "for i in range(5):\r\n",
        "  disc_iteration()\r\n",
        "  gen_iteration()\r\n",
        "  compare_data()"
      ],
      "outputs": [],
      "metadata": {
        "id": "3vb0Vxzgj3I7"
      }
    }
  ]
}