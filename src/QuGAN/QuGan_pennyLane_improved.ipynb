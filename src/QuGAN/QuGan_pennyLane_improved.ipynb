{
  "nbformat": 4,
  "nbformat_minor": 2,
  "metadata": {
    "colab": {
      "name": "QuGan-pennyLane-improved.ipynb",
      "provenance": [],
      "collapsed_sections": [],
      "authorship_tag": "ABX9TyO8gxiIZ6Mg4dhiUWeQ8wof",
      "include_colab_link": true
    },
    "kernelspec": {
      "name": "python3",
      "display_name": "Python 3.9.6 64-bit ('venv': venv)"
    },
    "language_info": {
      "name": "python",
      "version": "3.9.6",
      "mimetype": "text/x-python",
      "codemirror_mode": {
        "name": "ipython",
        "version": 3
      },
      "pygments_lexer": "ipython3",
      "nbconvert_exporter": "python",
      "file_extension": ".py"
    },
    "interpreter": {
      "hash": "dc44aa18a01d4ef3c49dce97499f9883b1b573f96a33e2e79347f993e3562639"
    }
  },
  "cells": [
    {
      "cell_type": "markdown",
      "source": [
        "<a href=\"https://colab.research.google.com/github/theerfan/Maqenta/blob/main/src/QuGan_pennyLane_improved.ipynb\" target=\"_parent\"><img src=\"https://colab.research.google.com/assets/colab-badge.svg\" alt=\"Open In Colab\"/></a>"
      ],
      "metadata": {
        "id": "view-in-github",
        "colab_type": "text"
      }
    },
    {
      "cell_type": "code",
      "execution_count": null,
      "source": [
        "# !pip install tensorflow pennylane pennylane-cirq\r\n",
        "# !pip install protobuf==3.13.0"
      ],
      "outputs": [],
      "metadata": {
        "id": "_jMj8d3yY1rW"
      }
    },
    {
      "cell_type": "code",
      "execution_count": 2,
      "source": [
        "import pennylane as qml\r\n",
        "import pennylane.numpy as np\r\n",
        "import torch"
      ],
      "outputs": [],
      "metadata": {
        "id": "RAb_ay37ZFxl"
      }
    },
    {
      "cell_type": "code",
      "execution_count": 3,
      "source": [
        "dev = qml.device('default.qubit', wires=3)"
      ],
      "outputs": [],
      "metadata": {
        "id": "RJArgegTZtVl"
      }
    },
    {
      "cell_type": "code",
      "execution_count": 4,
      "source": [
        "def real_data(angles, **kwargs):\r\n",
        "  qml.Hadamard(wires=0)\r\n",
        "  qml.Rot(*angles, wires=0) "
      ],
      "outputs": [],
      "metadata": {
        "id": "p3PrP7gRajvP"
      }
    },
    {
      "cell_type": "code",
      "execution_count": 5,
      "source": [
        "def generator(w, **kwargs):\r\n",
        "    qml.Hadamard(wires=0)\r\n",
        "    qml.RX(w[0], wires=0)\r\n",
        "    qml.RX(w[1], wires=1)\r\n",
        "    qml.RY(w[2], wires=0)\r\n",
        "    qml.RY(w[3], wires=1)\r\n",
        "    qml.RZ(w[4], wires=0)\r\n",
        "    qml.RZ(w[5], wires=1)\r\n",
        "    qml.CNOT(wires=[0, 1])\r\n",
        "    qml.RX(w[6], wires=0)\r\n",
        "    qml.RY(w[7], wires=0)\r\n",
        "    qml.RZ(w[8], wires=0)\r\n",
        "\r\n",
        "def discriminator(w):\r\n",
        "    qml.Hadamard(wires=0)\r\n",
        "    qml.RX(w[0], wires=0)\r\n",
        "    qml.RX(w[1], wires=2)\r\n",
        "    qml.RY(w[2], wires=0)\r\n",
        "    qml.RY(w[3], wires=2)\r\n",
        "    qml.RZ(w[4], wires=0)\r\n",
        "    qml.RZ(w[5], wires=2)\r\n",
        "    qml.CNOT(wires=[0, 2])\r\n",
        "    qml.RX(w[6], wires=2)\r\n",
        "    qml.RY(w[7], wires=2)\r\n",
        "    qml.RZ(w[8], wires=2)"
      ],
      "outputs": [],
      "metadata": {
        "id": "K776NfsDa6HB"
      }
    },
    {
      "cell_type": "code",
      "execution_count": 6,
      "source": [
        "#Circuits for generating real and generated data and passing them to the discriminator\r\n",
        "@qml.qnode(dev, interface=\"torch\")\r\n",
        "def real_disc_circuit(phi, theta, omega, disc_weights):\r\n",
        "  real_data([phi, theta, omega])\r\n",
        "  discriminator(disc_weights)\r\n",
        "  return qml.expval(qml.PauliZ(2))\r\n",
        "\r\n",
        "@qml.qnode(dev, interface=\"torch\")\r\n",
        "def gen_disc_circuit(gen_weights, disc_weights):\r\n",
        "  generator(gen_weights)\r\n",
        "  discriminator(disc_weights)\r\n",
        "  return qml.expval(qml.PauliZ(2))"
      ],
      "outputs": [],
      "metadata": {
        "id": "L9sUiIRob74R"
      }
    },
    {
      "cell_type": "code",
      "execution_count": 7,
      "source": [
        "type(real_disc_circuit)"
      ],
      "outputs": [
        {
          "output_type": "execute_result",
          "data": {
            "text/plain": [
              "pennylane.qnode.QNode"
            ]
          },
          "metadata": {},
          "execution_count": 7
        }
      ],
      "metadata": {}
    },
    {
      "cell_type": "code",
      "execution_count": null,
      "source": [
        "def prob_real_true(disc_weights):\r\n",
        "  true_disc_output = real_disc_circuit(phi, theta, omega, disc_weights)\r\n",
        "  # Convert to probability\r\n",
        "  prob_real_true = (true_disc_output + 1) / 2\r\n",
        "  return prob_real_true\r\n",
        "\r\n",
        "\r\n",
        "def prob_fake_true(gen_weights, disc_weights):\r\n",
        "  fake_disc_output = gen_disc_circuit(gen_weights, disc_weights)\r\n",
        "  # Convert to probability\r\n",
        "  prob_fake_true = (fake_disc_output + 1) / 2\r\n",
        "  return prob_fake_true\r\n",
        "\r\n",
        "def disc_cost(disc_weights):\r\n",
        "  cost = prob_fake_true(gen_weights, disc_weights) - prob_real_true(disc_weights)\r\n",
        "  return cost\r\n",
        "\r\n",
        "def gen_cost(gen_weights):\r\n",
        "  return -prob_fake_true(gen_weights, disc_weights)"
      ],
      "outputs": [],
      "metadata": {
        "id": "V8XapGZocyjp"
      }
    },
    {
      "cell_type": "code",
      "execution_count": null,
      "source": [
        "phi = np.pi / 6\r\n",
        "theta = np.pi / 2\r\n",
        "omega = np.pi / 7\r\n",
        "\r\n",
        "np.random.seed(0)\r\n",
        "eps = 1e-2\r\n",
        "\r\n",
        "init_gen_weights = np.array([np.pi] + [0] * 8) + np.random.normal(scale=eps, size=(9, ))\r\n",
        "init_disc_weights = np.random.normal(size=(9, ))\r\n",
        "\r\n",
        "gen_weights = tf.Variable(init_gen_weights)\r\n",
        "disc_weights = tf.Variable(init_disc_weights)"
      ],
      "outputs": [],
      "metadata": {
        "id": "0XmcP5hxdqRB"
      }
    },
    {
      "cell_type": "code",
      "execution_count": null,
      "source": [
        "opt = tf.keras.optimizers.SGD(0.4)"
      ],
      "outputs": [],
      "metadata": {
        "id": "vfPA7AzMfA-l"
      }
    },
    {
      "cell_type": "code",
      "execution_count": null,
      "source": [
        "def disc_iteration():\r\n",
        "  cost = lambda: disc_cost(disc_weights)\r\n",
        "\r\n",
        "  print(\"####### Minimizing discriminator cost #######\")\r\n",
        "\r\n",
        "  for step in range(50):\r\n",
        "    opt.minimize(cost, disc_weights)\r\n",
        "    \r\n",
        "    if step % 5 == 0:\r\n",
        "      cost_val = cost().numpy()\r\n",
        "      print(\"Step {}: cost = {}\".format(step, cost_val))\r\n",
        "\r\n",
        "  print(\"####### Finished minimizing discriminator cost #######\")\r\n",
        "\r\n",
        "  print(\"Prob(real classified as real): \", prob_real_true(disc_weights).numpy())\r\n",
        "  print(\"Prob(fake classified as real): \", prob_fake_true(gen_weights, disc_weights).numpy())"
      ],
      "outputs": [],
      "metadata": {
        "id": "1aQi_fx6fIzW"
      }
    },
    {
      "cell_type": "code",
      "execution_count": null,
      "source": [
        "def gen_iteration():\r\n",
        "  cost = lambda: gen_cost(gen_weights)\r\n",
        "\r\n",
        "  print(\"####### Minimizing generator cost #######\")\r\n",
        "\r\n",
        "  for step in range(50):\r\n",
        "    opt.minimize(cost, gen_weights)\r\n",
        "    if step % 5 == 0:\r\n",
        "      cost_val = cost().numpy()\r\n",
        "      print(\"Step {}: cost = {}\".format(step, cost_val))\r\n",
        "\r\n",
        "  print(\"####### Finished minimizing generator cost #######\")\r\n",
        "\r\n",
        "  print(\"Prob(fake classified as real): \", prob_fake_true(gen_weights, disc_weights).numpy())"
      ],
      "outputs": [],
      "metadata": {
        "id": "LDVxsE--hnU7"
      }
    },
    {
      "cell_type": "code",
      "execution_count": null,
      "source": [
        "def compare_data():\r\n",
        "\r\n",
        "  obs = [qml.PauliX(0), qml.PauliY(0), qml.PauliZ(0)]\r\n",
        "\r\n",
        "  bloch_vector_real = qml.map(real_data, obs, dev, interface=\"tf\")\r\n",
        "  bloch_vector_generator = qml.map(generator, obs, dev, interface=\"tf\")\r\n",
        "\r\n",
        "  print(\"Real Bloch vector: {}\".format(bloch_vector_real([phi, theta, omega])))\r\n",
        "  print(\"Generator Bloch vector: {}\".format(bloch_vector_generator(gen_weights)))"
      ],
      "outputs": [],
      "metadata": {
        "id": "d3CI-UasiE0H"
      }
    },
    {
      "cell_type": "code",
      "execution_count": null,
      "source": [
        "# The training loop\r\n",
        "\r\n",
        "for i in range(5):\r\n",
        "  disc_iteration()\r\n",
        "  gen_iteration()\r\n",
        "  compare_data()"
      ],
      "outputs": [],
      "metadata": {
        "id": "3vb0Vxzgj3I7"
      }
    }
  ]
}