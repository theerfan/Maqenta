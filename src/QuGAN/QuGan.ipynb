{
  "nbformat": 4,
  "nbformat_minor": 2,
  "metadata": {
    "colab": {
      "name": "QuGAN.ipynb",
      "provenance": [],
      "collapsed_sections": []
    },
    "kernelspec": {
      "name": "python3",
      "display_name": "Python 3.9.6 64-bit ('venv': venv)"
    },
    "language_info": {
      "name": "python",
      "version": "3.9.6",
      "mimetype": "text/x-python",
      "codemirror_mode": {
        "name": "ipython",
        "version": 3
      },
      "pygments_lexer": "ipython3",
      "nbconvert_exporter": "python",
      "file_extension": ".py"
    },
    "interpreter": {
      "hash": "dc44aa18a01d4ef3c49dce97499f9883b1b573f96a33e2e79347f993e3562639"
    },
    "accelerator": "GPU"
  },
  "cells": [
    {
      "cell_type": "code",
      "execution_count": null,
      "source": [
        "!pip install git+https://github.com/PennyLaneAI/pennylane"
      ],
      "outputs": [],
      "metadata": {
        "id": "f9NOkxg_pBM_"
      }
    },
    {
      "cell_type": "code",
      "execution_count": 2,
      "source": [
        "import pennylane as qml\r\n",
        "\r\n",
        "from pennylane.templates.layers import BasicEntanglerLayers, StronglyEntanglingLayers, RandomLayers\r\n",
        "from pennylane.templates.embeddings import AmplitudeEmbedding\r\n",
        "import pennylane.numpy as np\r\n",
        "import torch\r\n",
        "from music21 import converter, instrument, note, chord, stream\r\n",
        "\r\n",
        "from pathlib import Path\r\n",
        "import pickle, glob "
      ],
      "outputs": [],
      "metadata": {
        "id": "RAb_ay37ZFxl"
      }
    },
    {
      "cell_type": "code",
      "execution_count": 10,
      "source": [
        "n_wires = 12\r\n",
        "wires_range = range(n_wires)\r\n",
        "\r\n",
        "n_note_encoding = 7\r\n",
        "encoding_range = range(n_note_encoding)\r\n",
        "\r\n",
        "dev = qml.device('default.qubit', wires=n_wires)\r\n",
        "\r\n",
        "running_dev = torch.device('cuda' if torch.cuda.is_available() else 'cpu')\r\n",
        "running_dev"
      ],
      "outputs": [
        {
          "output_type": "execute_result",
          "data": {
            "text/plain": [
              "device(type='cuda')"
            ]
          },
          "metadata": {},
          "execution_count": 10
        }
      ],
      "metadata": {
        "id": "RJArgegTZtVl",
        "colab": {
          "base_uri": "https://localhost:8080/"
        },
        "outputId": "53106489-344c-4509-f1b4-5d6231f55cc5"
      }
    },
    {
      "cell_type": "code",
      "execution_count": null,
      "source": [
        "!wget https://github.com/theerfan/Maqenta/raw/main/data/notes.pk"
      ],
      "outputs": [],
      "metadata": {
        "id": "3BztExfRotBp"
      }
    },
    {
      "cell_type": "code",
      "execution_count": 8,
      "source": [
        "# Midi.py\r\n",
        "\r\n",
        "notes_dir = \"notes.pk\"\r\n",
        "\r\n",
        "\r\n",
        "class Midi:\r\n",
        "    def __init__(self, seq_length, device):\r\n",
        "        self.seq_length = seq_length\r\n",
        "        self.device = device\r\n",
        "\r\n",
        "        if Path(notes_dir).is_file():\r\n",
        "            self.notes = pickle.load(open(notes_dir, \"rb\"))\r\n",
        "        else:\r\n",
        "            self.notes = self.get_notes()\r\n",
        "            pickle.dump(self.notes, open(notes_dir, \"wb\"))\r\n",
        "\r\n",
        "        self.network_input, self.network_output = self.prepare_sequences(self.notes)\r\n",
        "        print(f\"Input shape: {self.network_input.shape}\")\r\n",
        "        print(f\"Output shape: {self.network_output.shape}\")\r\n",
        "\r\n",
        "    def get_notes(self):\r\n",
        "        \"\"\"Get all the notes and chords from the midi files in the ./midi_songs directory\"\"\"\r\n",
        "        # This is assuming that every interval between notes is the same (0.5)\r\n",
        "        notes = []\r\n",
        "\r\n",
        "        for file in glob.glob(\"midi_songs/*.mid\"):\r\n",
        "            midi = converter.parse(file)\r\n",
        "\r\n",
        "            print(\"Parsing %s\" % file)\r\n",
        "\r\n",
        "            notes_to_parse = None\r\n",
        "\r\n",
        "            try:  # file has instrument parts\r\n",
        "                s2 = instrument.partitionByInstrument(midi)\r\n",
        "                notes_to_parse = s2.parts[0].recurse()\r\n",
        "            except:  # file has notes in a flat structure\r\n",
        "                notes_to_parse = midi.flat.notes\r\n",
        "\r\n",
        "            for element in notes_to_parse:\r\n",
        "                if isinstance(element, note.Note):\r\n",
        "                    notes.append(str(element.pitch))\r\n",
        "                elif isinstance(element, chord.Chord):\r\n",
        "                    notes.append(\".\".join(str(n) for n in element.normalOrder))\r\n",
        "\r\n",
        "        with open(notes_dir, \"wb\") as filepath:\r\n",
        "            pickle.dump(notes, filepath)\r\n",
        "\r\n",
        "        return notes\r\n",
        "\r\n",
        "    def prepare_sequences(self, notes):\r\n",
        "        \"\"\"Prepare the sequences used by the Neural Network\"\"\"\r\n",
        "        self.n_vocab = len(set(notes))\r\n",
        "\r\n",
        "        # get all pitch names\r\n",
        "        pitchnames = sorted(set(item for item in notes))\r\n",
        "\r\n",
        "        # create a dictionary to map pitches to integers\r\n",
        "        self.note_to_int = {note: number for number, note in enumerate(pitchnames)}\r\n",
        "        self.int_to_note = {number: note for number, note in enumerate(pitchnames)}\r\n",
        "\r\n",
        "        network_input = []\r\n",
        "        network_output = []\r\n",
        "\r\n",
        "        # create input sequences and the corresponding outputs\r\n",
        "        for i in range(len(self.notes) - self.seq_length):\r\n",
        "            sequence_in = self.notes[i : i + self.seq_length]\r\n",
        "            sequence_out = self.notes[i + self.seq_length]\r\n",
        "            network_input.append([self.note_to_int[char] for char in sequence_in])\r\n",
        "            network_output.append(self.note_to_int[sequence_out])\r\n",
        "\r\n",
        "        n_patterns = len(network_input)\r\n",
        "\r\n",
        "        # reshape the input into a format compatible with LSTM layers\r\n",
        "        # So this is actually (number of different inputs, sequence length, number of features)\r\n",
        "        network_input = np.reshape(network_input, (n_patterns, self.seq_length))\r\n",
        "        network_input = torch.tensor(network_input, device=self.device, dtype=torch.double)\r\n",
        "\r\n",
        "        self.input_norms = torch.tensor(torch.linalg.norm(network_input, axis=1))\r\n",
        "        \r\n",
        "        for i in range(network_input.shape[0]):\r\n",
        "            network_input[i] /= self.input_norms[i]\r\n",
        "\r\n",
        "        return (\r\n",
        "            network_input,\r\n",
        "            torch.tensor(network_output, device=self.device),\r\n",
        "        )\r\n",
        "\r\n",
        "    def create_midi_from_model(self, prediction_output, filename):\r\n",
        "        \"\"\"convert the output from the prediction to notes and create a midi file\r\n",
        "        from the notes\"\"\"\r\n",
        "        offset = 0\r\n",
        "        output_notes = []\r\n",
        "\r\n",
        "        # create note and chord objects based on the values generated by the model\r\n",
        "        for pattern in prediction_output:\r\n",
        "            # pattern is a chord\r\n",
        "            if (\".\" in pattern) or pattern.isdigit():\r\n",
        "                notes_in_chord = pattern.split(\".\")\r\n",
        "                notes = []\r\n",
        "                for current_note in notes_in_chord:\r\n",
        "                    new_note = note.Note(int(current_note))\r\n",
        "                    new_note.storedInstrument = instrument.Piano()\r\n",
        "                    notes.append(new_note)\r\n",
        "                new_chord = chord.Chord(notes)\r\n",
        "                new_chord.offset = offset\r\n",
        "                output_notes.append(new_chord)\r\n",
        "            # pattern is a note\r\n",
        "            else:\r\n",
        "                new_note = note.Note(pattern)\r\n",
        "                new_note.offset = offset\r\n",
        "                new_note.storedInstrument = instrument.Piano()\r\n",
        "                output_notes.append(new_note)\r\n",
        "\r\n",
        "            # increase offset each iteration so that notes do not stack\r\n",
        "            offset += 0.5\r\n",
        "\r\n",
        "        midi_stream = stream.Stream(output_notes)\r\n",
        "\r\n",
        "        midi_stream.write(\"midi\", fp=filename)\r\n"
      ],
      "outputs": [],
      "metadata": {
        "id": "lYUGm4mUotBs"
      }
    },
    {
      "cell_type": "code",
      "execution_count": null,
      "source": [
        "seq_length = 2 **  n_note_encoding\r\n",
        "print(\"Initialized Midi\")\r\n",
        "midi = Midi(seq_length, running_dev)"
      ],
      "outputs": [],
      "metadata": {
        "id": "PgzWrWeDotBw"
      }
    },
    {
      "cell_type": "code",
      "execution_count": 12,
      "source": [
        "def encode_music(notes):\r\n",
        "    AmplitudeEmbedding(features=notes, wires=encoding_range, normalize=True)\r\n",
        "\r\n",
        "def music_generator(weights):\r\n",
        "    # StronglyEntanglingLayers(weights, wires=encoding_range)\r\n",
        "    # BasicEntanglerLayers(weights, wires=encoding_range)\r\n",
        "    RandomLayers(weights, wires=encoding_range)\r\n",
        "\r\n",
        "def discriminator(weights):\r\n",
        "    # BasicEntanglerLayers(weights, wires=wires_range)\r\n",
        "    StronglyEntanglingLayers(weights, wires=wires_range)\r\n",
        "\r\n",
        "def measurement(wire_count):\r\n",
        "    obs = qml.PauliZ(0)\r\n",
        "    for i in range(1, wire_count):\r\n",
        "        obs = obs @ qml.PauliZ(i)\r\n",
        "    return qml.expval(obs)"
      ],
      "outputs": [],
      "metadata": {
        "id": "EdxqkcOUotB2"
      }
    },
    {
      "cell_type": "code",
      "execution_count": 13,
      "source": [
        "@qml.qnode(dev, interface=\"torch\")\r\n",
        "def real_music_discriminator(inputs, weights):\r\n",
        "    encode_music(inputs)\r\n",
        "    discriminator(weights)\r\n",
        "    return measurement(n_note_encoding)\r\n",
        "\r\n",
        "def music_generator_circuit(inputs, note_weights):\r\n",
        "  encode_music(inputs)\r\n",
        "  music_generator(note_weights)\r\n",
        "\r\n",
        "@qml.qnode(dev, interface=\"torch\")\r\n",
        "def generated_music_discriminator(inputs, note_weights, weights):\r\n",
        "    music_generator_circuit(inputs, note_weights)\r\n",
        "    discriminator(weights)\r\n",
        "    return measurement(n_note_encoding)"
      ],
      "outputs": [],
      "metadata": {
        "id": "xA3oT7fAotB4"
      }
    },
    {
      "cell_type": "code",
      "execution_count": 15,
      "source": [
        "n_disc_layers = 12\r\n",
        "n_gen_layers = 20\r\n",
        "\r\n",
        "real_shapes = {\"weights\": (n_disc_layers, n_wires, 3)}\r\n",
        "\r\n",
        "real_layer = qml.qnn.TorchLayer(real_music_discriminator, real_shapes).to(running_dev)\r\n",
        "\r\n",
        "generated_shapes = {\r\n",
        "    \"weights\": (n_disc_layers, n_wires, 3),\r\n",
        "    \"note_weights\": (n_gen_layers, n_note_encoding),\r\n",
        "}\r\n",
        "\r\n",
        "generated_layer = qml.qnn.TorchLayer(generated_music_discriminator, generated_shapes).to(running_dev)\r\n",
        "generated_layer.weights.requires_grad=False"
      ],
      "outputs": [],
      "metadata": {
        "id": "WZFDG_HgotB6"
      }
    },
    {
      "cell_type": "code",
      "execution_count": 16,
      "source": [
        "def sync_weights(source_layer, target_layer):\r\n",
        "    \"\"\"Synchronize the weights of two layers\"\"\"\r\n",
        "    source_weights = source_layer.weights\r\n",
        "    target_weights = target_layer.weights\r\n",
        "    with torch.no_grad():\r\n",
        "        for source_weight, target_weight in zip(source_weights, target_weights):\r\n",
        "            target_weight.data = source_weight.data"
      ],
      "outputs": [],
      "metadata": {
        "id": "_G_cIU7HotB8"
      }
    },
    {
      "cell_type": "code",
      "execution_count": 17,
      "source": [
        "def prob_fun_disc_true(layer):\r\n",
        "    def prob_true(inputs):\r\n",
        "        true_output = layer(inputs)\r\n",
        "        # Convert to probability\r\n",
        "        prob_true = (true_output + 1) / 2\r\n",
        "        return prob_true\r\n",
        "\r\n",
        "    return prob_true"
      ],
      "outputs": [],
      "metadata": {
        "id": "CHOALwB2otB9"
      }
    },
    {
      "cell_type": "code",
      "execution_count": 18,
      "source": [
        "prob_real_true = prob_fun_disc_true(real_layer)\r\n",
        "prob_gen_true = prob_fun_disc_true(generated_layer)\r\n",
        "\r\n",
        "empty_input = torch.tensor(np.zeros((1,))).to(running_dev)\r\n",
        "\r\n",
        "def disc_cost(inputs):\r\n",
        "    return prob_gen_true(inputs) - prob_real_true(inputs)\r\n",
        "\r\n",
        "def gen_cost(inputs):\r\n",
        "    return -prob_gen_true(inputs)"
      ],
      "outputs": [],
      "metadata": {
        "id": "9e_tQb8zotB-"
      }
    },
    {
      "cell_type": "code",
      "execution_count": 19,
      "source": [
        "def gen_batch_inputs(batch_size=1):\r\n",
        "    return midi.network_input[\r\n",
        "        np.random.randint(0, len(midi.network_input), size=batch_size)\r\n",
        "    ]\r\n",
        "\r\n",
        "def shuffle_music(datapoint):\r\n",
        "  return datapoint[torch.randperm(datapoint.size()[0])].detach()"
      ],
      "outputs": [],
      "metadata": {
        "id": "VBNO6Q3totB_"
      }
    },
    {
      "cell_type": "code",
      "execution_count": 20,
      "source": [
        "def discriminator_iteration(n_iterations, learning_rate):\r\n",
        "\r\n",
        "    opt = torch.optim.Adam(real_layer.parameters(), lr=learning_rate)\r\n",
        "    best_cost = disc_cost(midi.network_input[0])\r\n",
        "    \r\n",
        "    for _ in range(n_iterations):\r\n",
        "        opt.zero_grad()\r\n",
        "        # Sample a batch of data\r\n",
        "        batch_inputs = gen_batch_inputs()\r\n",
        "        batch_inputs = batch_inputs.detach()\r\n",
        "        # Compute the loss\r\n",
        "        loss = disc_cost(batch_inputs)\r\n",
        "        sync_weights(real_layer, generated_layer)\r\n",
        "        # Backpropagate the loss\r\n",
        "        loss.backward()\r\n",
        "        # Update the weights\r\n",
        "        opt.step()\r\n",
        "        # Update the best cost\r\n",
        "        if loss < best_cost:\r\n",
        "            best_cost = loss\r\n",
        "    print(\"New best Discriminator cost:\", best_cost)"
      ],
      "outputs": [],
      "metadata": {
        "id": "u4LqIAqsotCA"
      }
    },
    {
      "cell_type": "code",
      "execution_count": 21,
      "source": [
        "def generator_iteration(n_iterations, learning_rate):\r\n",
        "    opt = torch.optim.SGD(filter(lambda p: p.requires_grad, generated_layer.parameters()), lr=learning_rate)\r\n",
        "    best_cost = gen_cost(midi.network_input[0])\r\n",
        "    \r\n",
        "    for _ in range(n_iterations):\r\n",
        "        opt.zero_grad()\r\n",
        "        # Compute the loss\r\n",
        "\r\n",
        "        batch_inputs = gen_batch_inputs()\r\n",
        "        batch_inputs = shuffle_music(batch_inputs)\r\n",
        "\r\n",
        "        # print(generated_layer.note_weights)\r\n",
        "\r\n",
        "        loss = gen_cost(batch_inputs)\r\n",
        "        # Backpropagate the loss\r\n",
        "        loss.backward()\r\n",
        "        # Update the weights\r\n",
        "        opt.step()\r\n",
        "        # Update the best cost\r\n",
        "        if loss < best_cost:\r\n",
        "            best_cost = loss\r\n",
        "    print(\"New best Generator cost:\", best_cost)"
      ],
      "outputs": [],
      "metadata": {
        "id": "3VHdC5YOotCC"
      }
    },
    {
      "cell_type": "code",
      "execution_count": null,
      "source": [
        "# The real iteration\r\n",
        "steps = 100\r\n",
        "n_iterations = 20\r\n",
        "learning_rate = 0.1\r\n",
        "# batch_size = 3\r\n",
        "\r\n",
        "generation_counter = 0\r\n",
        "\r\n",
        "model_name = f\"quGan-qu{n_wires}-quen{n_note_encoding}-step{steps}-iter{n_iterations}\"\r\n",
        "model_str = f\"{model_name}.pt\"\r\n",
        "\r\n",
        "if Path(model_str).is_file():\r\n",
        "    print(\"Loading model\")\r\n",
        "    generated_layer.load_state_dict(torch.load(model_str))\r\n",
        "    generated_layer.eval()\r\n",
        "else:\r\n",
        "    print(\"Training model\")\r\n",
        "    for _ in range(steps):\r\n",
        "        discriminator_iteration(n_iterations, learning_rate)\r\n",
        "        # sync_weights(real_layer, generated_layer)\r\n",
        "        generator_iteration(n_iterations, learning_rate)\r\n",
        "    torch.save(generated_layer.state_dict(), model_str)"
      ],
      "outputs": [],
      "metadata": {
        "id": "9a6dvXrjotCC"
      }
    },
    {
      "cell_type": "code",
      "execution_count": 56,
      "source": [
        "import random\r\n",
        "\r\n",
        "def generate_notes(model, network_input, int_to_note, n_notes):\r\n",
        "        \"\"\"Generate notes from the neural network based on a sequence of notes\"\"\"\r\n",
        "        # pick a random sequence from the input as a starting point for the prediction\r\n",
        "        scale_factor = len(midi.int_to_note) / torch.max(midi.input_norms)\r\n",
        "        with torch.no_grad():\r\n",
        "            start = random.randint(0, len(network_input) - n_notes)\r\n",
        "            \r\n",
        "            prediction_output = []\r\n",
        "\r\n",
        "            # generate n_notes\r\n",
        "            for i in range(start, start + n_notes):\r\n",
        "                input_ = network_input[i]\r\n",
        "                generated_note = model(shuffle_music(input_)) \r\n",
        "                generated_note = (generated_note + 1) * midi.input_norms[i]\r\n",
        "                generated_note = int(generated_note)\r\n",
        "                counter = 1\r\n",
        "                while generated_note not in int_to_note:\r\n",
        "                    generated_note *= counter / (counter + 1)\r\n",
        "                    generated_note = int(generated_note)\r\n",
        "                    counter += 1\r\n",
        "                result = int_to_note[int(generated_note)]\r\n",
        "                prediction_output.append(result)\r\n",
        "\r\n",
        "            return prediction_output"
      ],
      "outputs": [],
      "metadata": {
        "id": "QL0mp3QF7_ca"
      }
    },
    {
      "cell_type": "code",
      "execution_count": 24,
      "source": [
        "@qml.qnode(dev, interface=\"torch\")\r\n",
        "def final_music_generator(inputs, note_weights):\r\n",
        "  music_generator_circuit(inputs, note_weights)\r\n",
        "  return measurement(n_note_encoding)"
      ],
      "outputs": [],
      "metadata": {
        "id": "YEqA6ewB-qh7"
      }
    },
    {
      "cell_type": "code",
      "execution_count": 25,
      "source": [
        "# generator_only = qml.QNode(final_music_generator, dev, interface=\"torch\")\r\n",
        "weight_gens = {\r\n",
        "    \"note_weights\": (n_gen_layers, n_note_encoding),\r\n",
        "}\r\n",
        "generator_only_layer = qml.qnn.TorchLayer(final_music_generator, weight_gens).to(running_dev)"
      ],
      "outputs": [],
      "metadata": {
        "id": "EhnWOuio8JBk"
      }
    },
    {
      "cell_type": "code",
      "execution_count": 26,
      "source": [
        "def sync_final_weights(source_layer, target_layer):\r\n",
        "    \"\"\"Synchronize the weights of two layers\"\"\"\r\n",
        "    source_weights = source_layer.note_weights\r\n",
        "    target_weights = target_layer.note_weights\r\n",
        "    with torch.no_grad():\r\n",
        "        for source_weight, target_weight in zip(source_weights, target_weights):\r\n",
        "            target_weight.data = source_weight.data"
      ],
      "outputs": [],
      "metadata": {
        "id": "EKPGkZ6ATXHo"
      }
    },
    {
      "cell_type": "code",
      "execution_count": null,
      "source": [
        "n_notes = 200\r\n",
        "generated_notes = []\r\n",
        "print(\"Generating notes\")\r\n",
        "sync_final_weights(generated_layer, generator_only_layer)\r\n",
        "notes = generate_notes(generator_only_layer, midi.network_input, midi.int_to_note, n_notes=n_notes)\r\n",
        "# notes"
      ],
      "outputs": [],
      "metadata": {
        "id": "ucnsxtJS3T__"
      }
    },
    {
      "cell_type": "code",
      "execution_count": 60,
      "source": [
        "generation_counter += 1\r\n",
        "print(\"Saving as MIDI file.\")\r\n",
        "midi.create_midi_from_model(notes, f\"{model_name}_generated_{generation_counter}.mid\")"
      ],
      "outputs": [
        {
          "output_type": "stream",
          "name": "stdout",
          "text": [
            "Saving as MIDI file.\n"
          ]
        }
      ],
      "metadata": {
        "id": "rABcRRUG-LiU",
        "colab": {
          "base_uri": "https://localhost:8080/"
        },
        "outputId": "c832ffaf-3bd9-47f1-f78a-d17cee26ed1b"
      }
    }
  ]
}