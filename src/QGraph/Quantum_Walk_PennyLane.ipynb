{
    "cells": [
        {
            "cell_type": "code",
            "execution_count": null,
            "source": [
                "import pennylane as qml\r\n",
                "from pennylane import numpy as np"
            ],
            "outputs": [],
            "metadata": {}
        },
        {
            "cell_type": "code",
            "execution_count": null,
            "source": [
                "# Three qubits to use as graph nodes, one as coin.\r\n",
                "node_count = 3\r\n",
                "dev = qml.device(\"default.qubit\", wires=node_count+1)"
            ],
            "outputs": [],
            "metadata": {}
        },
        {
            "cell_type": "code",
            "execution_count": null,
            "source": [
                "def walk_step(node_count):\r\n",
                "    # Flip the coin\r\n",
                "    qml.Hadamard(wires=node_count)\r\n",
                "\r\n",
                "    # Implement the Addition Operator\r\n",
                "\r\n",
                "    qml.PauliX(wires=node_count)\r\n",
                "\r\n",
                "    for i in range(node_count, 0, -1):\r\n",
                "        controls = [v for v in range(node_count, i-1, -1)]\r\n",
                "        qml.MultiControlledX(control_wires=controls, wires=i-1)\r\n",
                "        if i > 1:\r\n",
                "            qml.PauliX(wires=i-1)\r\n",
                "    \r\n",
                "    qml.PauliX(wires=node_count)\r\n",
                "\r\n",
                "    # Implement the Substraction Operator\r\n",
                "    for i in range(1, node_count+1):\r\n",
                "        controls = [v for v in range(node_count, i-1, -1)]\r\n",
                "        qml.MultiControlledX(control_wires=controls, wires=i-1)\r\n",
                "        if i < node_count:\r\n",
                "            qml.PauliX(wires=i)\r\n",
                "\r\n",
                "\r\n",
                "@qml.qnode(dev)\r\n",
                "def circuit(params):\r\n",
                "    node_count = 3\r\n",
                "    qml.PauliX(wires=0)\r\n",
                "    qml.PauliX(wires=node_count)\r\n",
                "    # This is the walk step\r\n",
                "    for _ in range(params[0]):\r\n",
                "        walk_step(node_count)\r\n",
                "        \r\n",
                "    # return qml.expval(qml.PauliZ(0))\r\n",
                "    return [qml.sample(qml.PauliZ(i)) for i in range(node_count)]\r\n",
                "    # return [qml.expval(qml.PauliZ(i)) for i in range(node_count)]\r\n"
            ],
            "outputs": [],
            "metadata": {}
        },
        {
            "cell_type": "code",
            "execution_count": null,
            "source": [
                "def refined_results(x):\r\n",
                "    result = circuit(x, shots=1000)\r\n",
                "    result[result==-1] = 0\r\n",
                "    return result.sum(axis=1)\r\n"
            ],
            "outputs": [],
            "metadata": {}
        },
        {
            "cell_type": "code",
            "execution_count": 94,
            "source": [
                "def cost_result(result):\r\n",
                "    return result[0]"
            ],
            "outputs": [],
            "metadata": {}
        },
        {
            "cell_type": "code",
            "execution_count": null,
            "source": [
                "# Bias against the first qubit being 1.\r\n",
                "def cost_fn(x):\r\n",
                "    result = refined_results(x)\r\n",
                "    return result[0]"
            ],
            "outputs": [],
            "metadata": {}
        },
        {
            "cell_type": "code",
            "execution_count": null,
            "source": [
                "init_params = np.array([4, 0])\r\n",
                "result = refined_results(init_params)\r\n",
                "print(result)\r\n",
                "print(cost_fn(init_params))"
            ],
            "outputs": [],
            "metadata": {}
        },
        {
            "cell_type": "code",
            "execution_count": 95,
            "source": [
                "# set the number of steps\r\n",
                "steps = 100\r\n",
                "# set the initial parameter values\r\n",
                "min_step, min_cost, min_result = -1, 1e9, None\r\n",
                "\r\n",
                "for i in range(1, steps):\r\n",
                "    # update the circuit parameters\r\n",
                "    params = np.array([i, 0])\r\n",
                "    \r\n",
                "    result = refined_results(params)\r\n",
                "    # calculate the cost\r\n",
                "    cost = cost_result(result)\r\n",
                "\r\n",
                "    if cost < min_cost:\r\n",
                "        min_cost = cost\r\n",
                "        min_step = i\r\n",
                "        min_result = result\r\n",
                "\r\n",
                "    if (i + 1) % 5 == 0:\r\n",
                "        print(\"Cost after step {:5d}: {: .7f}\".format(i + 1, cost))\r\n",
                "\r\n",
                "print(\"Optimized walk steps: {}\".format(min_step))"
            ],
            "outputs": [
                {
                    "output_type": "stream",
                    "name": "stdout",
                    "text": [
                        "Cost after step     5:  764.0000000\n",
                        "Cost after step    10:  264.0000000\n",
                        "Cost after step    15:  749.0000000\n",
                        "Cost after step    20:  257.0000000\n",
                        "Cost after step    25:  0.0000000\n",
                        "Cost after step    30:  738.0000000\n",
                        "Cost after step    35:  503.0000000\n",
                        "Cost after step    40:  744.0000000\n",
                        "Cost after step    45:  268.0000000\n",
                        "Cost after step    50:  503.0000000\n",
                        "Cost after step    55:  733.0000000\n",
                        "Cost after step    60:  496.0000000\n",
                        "Cost after step    65:  765.0000000\n",
                        "Cost after step    70:  238.0000000\n",
                        "Cost after step    75:  244.0000000\n",
                        "Cost after step    80:  739.0000000\n",
                        "Cost after step    85:  506.0000000\n",
                        "Cost after step    90:  744.0000000\n",
                        "Cost after step    95:  0.0000000\n",
                        "Cost after step   100:  748.0000000\n",
                        "Optimized walk steps: 0\n"
                    ]
                }
            ],
            "metadata": {}
        },
        {
            "cell_type": "code",
            "execution_count": null,
            "source": [
                "histo_steps = 1\r\n",
                "\r\n",
                "params = np.array([min_step, 0])\r\n",
                "\r\n",
                "for _ in range(histo_steps):\r\n",
                "    result = circuit(params)\r\n",
                "    print(result)"
            ],
            "outputs": [],
            "metadata": {}
        }
    ],
    "metadata": {
        "orig_nbformat": 4,
        "language_info": {
            "name": "python"
        }
    },
    "nbformat": 4,
    "nbformat_minor": 2
}