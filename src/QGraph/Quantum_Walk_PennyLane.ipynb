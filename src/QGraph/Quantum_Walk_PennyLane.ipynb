{
    "cells": [
        {
            "cell_type": "code",
            "execution_count": null,
            "source": [
                "import pennylane as qml\r\n",
                "from pennylane import numpy as np\r\n",
                "import matplotlib.pyplot as plt"
            ],
            "outputs": [],
            "metadata": {}
        },
        {
            "cell_type": "code",
            "execution_count": null,
            "source": [
                "# Three qubits to use as graph nodes, one as coin.\r\n",
                "node_count = 3\r\n",
                "dev = qml.device(\"default.qubit\", wires=node_count+1)"
            ],
            "outputs": [],
            "metadata": {}
        },
        {
            "cell_type": "code",
            "execution_count": null,
            "source": [
                "# LSB is on the left (Big endian)\r\n",
                "def walk_step(node_count):\r\n",
                "    # Flip the coin\r\n",
                "    qml.Hadamard(wires=node_count)\r\n",
                "\r\n",
                "    # Implement the Addition Operator\r\n",
                "\r\n",
                "    qml.PauliX(wires=node_count)\r\n",
                "\r\n",
                "    for i in range(node_count, 0, -1):\r\n",
                "        controls = [v for v in range(node_count, i - 1, -1)]\r\n",
                "        qml.MultiControlledX(control_wires=controls, wires=i - 1)\r\n",
                "        if i > 1:\r\n",
                "            qml.PauliX(wires=i - 1)\r\n",
                "\r\n",
                "    qml.PauliX(wires=node_count)\r\n",
                "\r\n",
                "    # We should X all the qubits here but the same should happen in the subtraction step so they cancel out\r\n",
                "\r\n",
                "    # Implement the Substraction Operator\r\n",
                "    for i in range(1, node_count + 1):\r\n",
                "        controls = [v for v in range(node_count, i - 1, -1)]\r\n",
                "        qml.MultiControlledX(control_wires=controls, wires=i - 1)\r\n",
                "        if i < node_count:\r\n",
                "            qml.PauliX(wires=i)\r\n",
                "\r\n",
                "\r\n",
                "@qml.qnode(dev)\r\n",
                "def circuit(params):\r\n",
                "    node_count = 3\r\n",
                "    qml.PauliX(wires=0)\r\n",
                "    qml.PauliX(wires=node_count)\r\n",
                "\r\n",
                "    for _ in range(params[0]):\r\n",
                "        walk_step(node_count)\r\n",
                "\r\n",
                "    return [qml.sample(qml.PauliZ(i)) for i in range(node_count)]\r\n",
                "    # return [qml.expval(qml.PauliZ(i)) for i in range(node_count)]\r\n"
            ],
            "outputs": [],
            "metadata": {}
        },
        {
            "cell_type": "code",
            "execution_count": null,
            "source": [
                "def refined_results(x):\r\n",
                "    result = circuit(x, shots=1000)\r\n",
                "    result[result==-1] = 0\r\n",
                "    for i in range(result.shape[1]):\r\n",
                "        pass\r\n",
                "        \r\n",
                "    return result.sum(axis=1)\r\n"
            ],
            "outputs": [],
            "metadata": {}
        },
        {
            "cell_type": "code",
            "execution_count": 119,
            "source": [
                "\r\n",
                "def another_refined_results(x):\r\n",
                "    dict_result = {i: 0 for i in range(2 ** node_count)}\r\n",
                "    result = circuit(x, shots=1000)\r\n",
                "    result[result==-1] = 0\r\n",
                "    for i in range(result.shape[1]):\r\n",
                "        int_result = sum([j * 2**n for j, n in enumerate(result[:, i][::-1])])\r\n",
                "        dict_result[int(int_result)] += 1\r\n",
                "    \r\n",
                "    return dict_result\r\n",
                "        "
            ],
            "outputs": [],
            "metadata": {}
        },
        {
            "cell_type": "code",
            "execution_count": null,
            "source": [
                "def cost_result(result):\r\n",
                "    return result[0]"
            ],
            "outputs": [],
            "metadata": {}
        },
        {
            "cell_type": "code",
            "execution_count": null,
            "source": [
                "# Bias against the first qubit being 1.\r\n",
                "def cost_fn(x):\r\n",
                "    result = refined_results(x)\r\n",
                "    return result[0]"
            ],
            "outputs": [],
            "metadata": {}
        },
        {
            "cell_type": "code",
            "execution_count": null,
            "source": [
                "init_params = np.array([4, 0])\r\n",
                "result = refined_results(init_params)\r\n",
                "print(result)\r\n",
                "result[:, 0][::-1]\r\n"
            ],
            "outputs": [],
            "metadata": {}
        },
        {
            "cell_type": "code",
            "execution_count": 120,
            "source": [
                "init_params = np.array([4, 0])\r\n",
                "result = another_refined_results(init_params)\r\n",
                "print(result)"
            ],
            "outputs": [
                {
                    "output_type": "stream",
                    "name": "stdout",
                    "text": [
                        "{0: 0, 1: 0, 2: 0, 3: 107, 4: 137, 5: 632, 6: 124, 7: 0}\n"
                    ]
                }
            ],
            "metadata": {}
        },
        {
            "cell_type": "code",
            "execution_count": null,
            "source": [
                "result[:, 1][::-1]\r\n",
                "result.shape\r\n",
                "for i, j in enumerate(result[:, 1][::-1]):\r\n",
                "    print(i, j)"
            ],
            "outputs": [],
            "metadata": {}
        },
        {
            "cell_type": "code",
            "execution_count": null,
            "source": [
                "# set the number of steps\r\n",
                "steps = 100\r\n",
                "# set the initial parameter values\r\n",
                "min_step, min_cost, min_result = -1, 1e9, None\r\n",
                "\r\n",
                "for i in range(1, steps):\r\n",
                "    # update the circuit parameters\r\n",
                "    params = np.array([i, 0])\r\n",
                "    \r\n",
                "    result = refined_results(params)\r\n",
                "    # calculate the cost\r\n",
                "    cost = cost_result(result)\r\n",
                "\r\n",
                "    if cost < min_cost:\r\n",
                "        min_cost = cost\r\n",
                "        min_step = i\r\n",
                "        min_result = result\r\n",
                "\r\n",
                "    if (i + 1) % 5 == 0:\r\n",
                "        print(\"Cost after step {:5d}: {: .7f}\".format(i + 1, cost))\r\n",
                "\r\n",
                "print(\"Optimized walk steps: {}\".format(min_step))"
            ],
            "outputs": [],
            "metadata": {}
        },
        {
            "cell_type": "code",
            "execution_count": 122,
            "source": [
                "result = another_refined_results(np.array([0, min_step]))\r\n",
                "print(result)\r\n",
                "plt.bar(result.keys(), result.values(), 1.0, color='g')\r\n"
            ],
            "outputs": [
                {
                    "output_type": "stream",
                    "name": "stdout",
                    "text": [
                        "{0: 0, 1: 0, 2: 0, 3: 0, 4: 1000, 5: 0, 6: 0, 7: 0}\n"
                    ]
                },
                {
                    "output_type": "execute_result",
                    "data": {
                        "text/plain": [
                            "<BarContainer object of 8 artists>"
                        ]
                    },
                    "metadata": {},
                    "execution_count": 122
                },
                {
                    "output_type": "display_data",
                    "data": {
                        "text/plain": [
                            "<Figure size 432x288 with 1 Axes>"
                        ],
                        "image/png": "[encoded data removed]"
                    },
                    "metadata": {
                        "needs_background": "light"
                    }
                }
            ],
            "metadata": {}
        }
    ],
    "metadata": {
        "orig_nbformat": 4,
        "language_info": {
            "name": "python"
        }
    },
    "nbformat": 4,
    "nbformat_minor": 2
}