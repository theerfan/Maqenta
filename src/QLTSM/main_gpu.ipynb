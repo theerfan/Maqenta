{
  "nbformat": 4,
  "nbformat_minor": 2,
  "metadata": {
    "accelerator": "GPU",
    "colab": {
      "name": "Copy of main_gpu.ipynb",
      "provenance": [],
      "collapsed_sections": []
    },
    "kernelspec": {
      "name": "python3",
      "display_name": "Python 3.9.6 64-bit"
    },
    "language_info": {
      "codemirror_mode": {
        "name": "ipython",
        "version": 3
      },
      "file_extension": ".py",
      "mimetype": "text/x-python",
      "name": "python",
      "nbconvert_exporter": "python",
      "pygments_lexer": "ipython3",
      "version": "3.9.6"
    },
    "interpreter": {
      "hash": "d2c77ea8d338d5dbf262d683b98c2873f87d453475070b582f093a0c2749b897"
    }
  },
  "cells": [
    {
      "cell_type": "code",
      "execution_count": 1,
      "source": [
        "!pip install git+https://github.com/PennyLaneAI/pennylane\r\n"
      ],
      "outputs": [
        {
          "output_type": "stream",
          "name": "stdout",
          "text": [
            "Collecting git+https://github.com/PennyLaneAI/pennylane\n",
            "  Cloning https://github.com/PennyLaneAI/pennylane to /tmp/pip-req-build-6b1g3ckv\n",
            "  Running command git clone -q https://github.com/PennyLaneAI/pennylane /tmp/pip-req-build-6b1g3ckv\n",
            "Requirement already satisfied: numpy in /usr/local/lib/python3.7/dist-packages (from PennyLane==0.19.0.dev0) (1.19.5)\n",
            "Requirement already satisfied: scipy in /usr/local/lib/python3.7/dist-packages (from PennyLane==0.19.0.dev0) (1.4.1)\n",
            "Requirement already satisfied: networkx in /usr/local/lib/python3.7/dist-packages (from PennyLane==0.19.0.dev0) (2.6.3)\n",
            "Requirement already satisfied: autograd in /usr/local/lib/python3.7/dist-packages (from PennyLane==0.19.0.dev0) (1.3)\n",
            "Requirement already satisfied: toml in /usr/local/lib/python3.7/dist-packages (from PennyLane==0.19.0.dev0) (0.10.2)\n",
            "Requirement already satisfied: appdirs in /usr/local/lib/python3.7/dist-packages (from PennyLane==0.19.0.dev0) (1.4.4)\n",
            "Collecting semantic_version==2.6\n",
            "  Downloading semantic_version-2.6.0-py3-none-any.whl (14 kB)\n",
            "Collecting autoray\n",
            "  Downloading autoray-0.2.5-py3-none-any.whl (16 kB)\n",
            "Requirement already satisfied: cachetools in /usr/local/lib/python3.7/dist-packages (from PennyLane==0.19.0.dev0) (4.2.2)\n",
            "Collecting pennylane-lightning>=0.18\n",
            "  Downloading PennyLane_Lightning-0.18.0-cp37-cp37m-manylinux2010_x86_64.whl (4.4 MB)\n",
            "\u001b[K     |████████████████████████████████| 4.4 MB 6.3 MB/s \n",
            "\u001b[?25hRequirement already satisfied: future>=0.15.2 in /usr/local/lib/python3.7/dist-packages (from autograd->PennyLane==0.19.0.dev0) (0.16.0)\n",
            "Building wheels for collected packages: PennyLane\n",
            "  Building wheel for PennyLane (setup.py) ... \u001b[?25l\u001b[?25hdone\n",
            "  Created wheel for PennyLane: filename=PennyLane-0.19.0.dev0-py3-none-any.whl size=650237 sha256=0b001d28277354c612b1ac63f95e4504982e779f820bf088e9e4fb61d25727f3\n",
            "  Stored in directory: /tmp/pip-ephem-wheel-cache-ig32yx2d/wheels/9e/4b/fe/27dcf8ba174161f9d1af1841251dc97013a33a66f16cd8d661\n",
            "Successfully built PennyLane\n",
            "Installing collected packages: semantic-version, pennylane-lightning, autoray, PennyLane\n",
            "Successfully installed PennyLane-0.19.0.dev0 autoray-0.2.5 pennylane-lightning-0.18.0 semantic-version-2.6.0\n"
          ]
        }
      ],
      "metadata": {
        "id": "JMjdvyD62otP",
        "colab": {
          "base_uri": "https://localhost:8080/"
        },
        "outputId": "55e3702e-4239-4cb6-e323-f02908735be9"
      }
    },
    {
      "cell_type": "code",
      "execution_count": 2,
      "source": [
        "import torch\r\n",
        "import torch.nn as nn\r\n",
        "from torch import optim\r\n",
        "import torch.nn.functional as F\r\n",
        "from torch import tensor\r\n",
        "\r\n",
        "from pathlib import Path\r\n",
        "\r\n",
        "import pennylane as qml\r\n",
        "from pennylane import numpy as np\r\n",
        "from pennylane.templates import embeddings as emb\r\n",
        "from pennylane.templates import layers as lay\r\n",
        "\r\n",
        "from typing import Union\r\n",
        "\r\n",
        "import matplotlib.pyplot as plt\r\n",
        "\r\n",
        "from music21 import converter, instrument, note, chord, stream\r\n",
        "import glob, pickle, time"
      ],
      "outputs": [],
      "metadata": {
        "id": "z70RfQb52cPX"
      }
    },
    {
      "cell_type": "code",
      "execution_count": 3,
      "source": [
        "device = torch.device('cuda' if torch.cuda.is_available() else 'cpu')\r\n",
        "device"
      ],
      "outputs": [
        {
          "output_type": "execute_result",
          "data": {
            "text/plain": [
              "device(type='cuda')"
            ]
          },
          "metadata": {},
          "execution_count": 3
        }
      ],
      "metadata": {
        "colab": {
          "base_uri": "https://localhost:8080/"
        },
        "id": "Y11nHDFJ79-C",
        "outputId": "9ac4bf6d-3d29-41dc-8c83-6ebdcd48f6ec"
      }
    },
    {
      "cell_type": "code",
      "execution_count": 4,
      "source": [
        "!wget https://github.com/theerfan/Maqenta/raw/main/data/notes.pk"
      ],
      "outputs": [
        {
          "output_type": "display_data",
          "data": {
            "text/html": [
              "\n",
              "     <input type=\"file\" id=\"files-bd491d1a-cfdb-4723-b25f-0ae987d1c4e1\" name=\"files[]\" multiple disabled\n",
              "        style=\"border:none\" />\n",
              "     <output id=\"result-bd491d1a-cfdb-4723-b25f-0ae987d1c4e1\">\n",
              "      Upload widget is only available when the cell has been executed in the\n",
              "      current browser session. Please rerun this cell to enable.\n",
              "      </output>\n",
              "      <script src=\"/nbextensions/google.colab/files.js\"></script> "
            ],
            "text/plain": [
              "<IPython.core.display.HTML object>"
            ]
          },
          "metadata": {}
        },
        {
          "output_type": "stream",
          "name": "stdout",
          "text": [
            "Saving notes.pk to notes.pk\n"
          ]
        },
        {
          "output_type": "execute_result",
          "data": {
            "text/plain": [
              "dict_keys(['notes.pk'])"
            ]
          },
          "metadata": {},
          "execution_count": 4
        }
      ],
      "metadata": {
        "colab": {
          "resources": {
            "http://localhost:8080/nbextensions/google.colab/files.js": {
              "data": "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",
              "ok": true,
              "headers": [
                [
                  "content-type",
                  "application/javascript"
                ]
              ],
              "status": 200,
              "status_text": "OK"
            }
          },
          "base_uri": "https://localhost:8080/",
          "height": 93
        },
        "id": "uKEIMOeK4VQV",
        "outputId": "c569b4a7-046e-4f4a-f827-8a6f62016471"
      }
    },
    {
      "cell_type": "code",
      "execution_count": 5,
      "source": [
        "# Midi.py\r\n",
        "\r\n",
        "notes_dir = \"notes.pk\"\r\n",
        "\r\n",
        "class Midi:\r\n",
        "    def __init__(self, seq_length, device):\r\n",
        "        self.seq_length = seq_length\r\n",
        "        self.device = device\r\n",
        "\r\n",
        "        if Path(notes_dir).is_file():\r\n",
        "            self.notes = pickle.load(open(notes_dir, \"rb\"))\r\n",
        "        else:\r\n",
        "            self.notes = self.get_notes()\r\n",
        "            pickle.dump(self.notes, open(notes_dir, \"wb\"))\r\n",
        "\r\n",
        "        self.network_input, self.network_output = self.prepare_sequences(self.notes)\r\n",
        "        print(f\"Input shape: {self.network_input.shape}\")\r\n",
        "        print(f\"Output shape: {self.network_output.shape}\")\r\n",
        "\r\n",
        "    def get_notes(self):\r\n",
        "        \"\"\"Get all the notes and chords from the midi files in the ./midi_songs directory\"\"\"\r\n",
        "        # This is assuming that every interval between notes is the same (0.5)\r\n",
        "        notes = []\r\n",
        "\r\n",
        "        for file in glob.glob(\"midi_songs/*.mid\"):\r\n",
        "            midi = converter.parse(file)\r\n",
        "\r\n",
        "            print(\"Parsing %s\" % file)\r\n",
        "\r\n",
        "            notes_to_parse = None\r\n",
        "\r\n",
        "            try:  # file has instrument parts\r\n",
        "                s2 = instrument.partitionByInstrument(midi)\r\n",
        "                notes_to_parse = s2.parts[0].recurse()\r\n",
        "            except:  # file has notes in a flat structure\r\n",
        "                notes_to_parse = midi.flat.notes\r\n",
        "\r\n",
        "            for element in notes_to_parse:\r\n",
        "                if isinstance(element, note.Note):\r\n",
        "                    notes.append(str(element.pitch))\r\n",
        "                elif isinstance(element, chord.Chord):\r\n",
        "                    notes.append(\".\".join(str(n) for n in element.normalOrder))\r\n",
        "\r\n",
        "        with open(notes_dir, \"wb\") as filepath:\r\n",
        "            pickle.dump(notes, filepath)\r\n",
        "\r\n",
        "        return notes\r\n",
        "\r\n",
        "    def prepare_sequences(self, notes):\r\n",
        "        \"\"\"Prepare the sequences used by the Neural Network\"\"\"\r\n",
        "        self.n_vocab = len(set(notes))\r\n",
        "\r\n",
        "        # get all pitch names\r\n",
        "        pitchnames = sorted(set(item for item in notes))\r\n",
        "\r\n",
        "        # create a dictionary to map pitches to integers\r\n",
        "        self.note_to_int = {note: number for number, note in enumerate(pitchnames)}\r\n",
        "        self.int_to_note = {number: note for number, note in enumerate(pitchnames)}\r\n",
        "\r\n",
        "        network_input = []\r\n",
        "        network_output = []\r\n",
        "\r\n",
        "        # create input sequences and the corresponding outputs\r\n",
        "        for i in range(len(self.notes) - self.seq_length):\r\n",
        "            sequence_in = self.notes[i : i + self.seq_length]\r\n",
        "            sequence_out = self.notes[i + self.seq_length]\r\n",
        "            network_input.append([self.note_to_int[char] for char in sequence_in])\r\n",
        "            network_output.append(self.note_to_int[sequence_out])\r\n",
        "\r\n",
        "        n_patterns = len(network_input)\r\n",
        "\r\n",
        "        # reshape the input into a format compatible with LSTM layers\r\n",
        "        # So this is actuallyt (number of different inputs, sequence length, number of features)\r\n",
        "        network_input = np.reshape(network_input, (n_patterns, self.seq_length, 1))\r\n",
        "        # normalize input\r\n",
        "        network_input = network_input / float(self.n_vocab)\r\n",
        "\r\n",
        "        # network_output = to_categorical(network_output)\r\n",
        "\r\n",
        "        return (tensor(network_input, device=self.device), tensor(network_output, device=self.device))\r\n",
        "\r\n",
        "    def create_midi_from_model(self, prediction_output, filename):\r\n",
        "        \"\"\" convert the output from the prediction to notes and create a midi file\r\n",
        "        from the notes \"\"\"\r\n",
        "        offset = 0\r\n",
        "        output_notes = []\r\n",
        "\r\n",
        "        # create note and chord objects based on the values generated by the model\r\n",
        "        for pattern in prediction_output:\r\n",
        "            # pattern is a chord\r\n",
        "            if ('.' in pattern) or pattern.isdigit():\r\n",
        "                notes_in_chord = pattern.split('.')\r\n",
        "                notes = []\r\n",
        "                for current_note in notes_in_chord:\r\n",
        "                    new_note = note.Note(int(current_note))\r\n",
        "                    new_note.storedInstrument = instrument.Piano()\r\n",
        "                    notes.append(new_note)\r\n",
        "                new_chord = chord.Chord(notes)\r\n",
        "                new_chord.offset = offset\r\n",
        "                output_notes.append(new_chord)\r\n",
        "            # pattern is a note\r\n",
        "            else:\r\n",
        "                new_note = note.Note(pattern)\r\n",
        "                new_note.offset = offset\r\n",
        "                new_note.storedInstrument = instrument.Piano()\r\n",
        "                output_notes.append(new_note)\r\n",
        "\r\n",
        "            # increase offset each iteration so that notes do not stack\r\n",
        "            offset += 0.5\r\n",
        "\r\n",
        "        midi_stream = stream.Stream(output_notes)\r\n",
        "\r\n",
        "        midi_stream.write('midi', fp=filename)\r\n"
      ],
      "outputs": [],
      "metadata": {
        "id": "nyTkc6uS2cPb"
      }
    },
    {
      "cell_type": "code",
      "execution_count": 6,
      "source": [
        "# QLSTM.py\r\n",
        "\r\n",
        "Embedding = Union[emb.AngleEmbedding, emb.AmplitudeEmbedding, emb.BasisEmbedding]\r\n",
        "Layer = Union[\r\n",
        "    lay.BasicEntanglerLayers,\r\n",
        "    lay.ParticleConservingU1,\r\n",
        "    lay.ParticleConservingU2,\r\n",
        "    lay.RandomLayers,\r\n",
        "    lay.StronglyEntanglingLayers,\r\n",
        "]\r\n",
        "\r\n",
        "\r\n",
        "class QLSTMCell(nn.Module):\r\n",
        "    def quantum_op(\r\n",
        "        self,\r\n",
        "        wires,\r\n",
        "        embedding: Embedding = emb.AngleEmbedding,\r\n",
        "        layer: Layer = lay.BasicEntanglerLayers,\r\n",
        "    ):\r\n",
        "        def circuit_part(inputs, weights):\r\n",
        "            embedding(inputs, wires=wires)\r\n",
        "            layer(weights, wires=wires)\r\n",
        "            return [qml.expval(qml.PauliZ(wires=w)) for w in wires]\r\n",
        "\r\n",
        "        return circuit_part\r\n",
        "\r\n",
        "    def __init__(\r\n",
        "        self,\r\n",
        "        input_size,\r\n",
        "        hidden_size,\r\n",
        "        n_qubits=4,\r\n",
        "        n_qlayers=1,\r\n",
        "        dropout=0,\r\n",
        "        batch_first=True,\r\n",
        "        return_sequences=False,\r\n",
        "        return_state=True,\r\n",
        "        backend=\"default.qubit\",\r\n",
        "        device=\"cpu\"\r\n",
        "    ):\r\n",
        "        super(QLSTMCell, self).__init__()\r\n",
        "        self.n_inputs = input_size\r\n",
        "        self.hidden_size = hidden_size\r\n",
        "        self.concat_size = self.n_inputs + self.hidden_size\r\n",
        "        self.n_qubits = n_qubits\r\n",
        "        self.n_qlayers = n_qlayers\r\n",
        "        self.backend = backend  # \"default.qubit\", \"qiskit.basicaer\", \"qiskit.ibm\"\r\n",
        "        self.device = device # \"cpu\", \"cuda\"\r\n",
        "        self.dropout = dropout\r\n",
        "\r\n",
        "        self.batch_first = batch_first\r\n",
        "        self.return_sequences = return_sequences\r\n",
        "        self.return_state = return_state\r\n",
        "\r\n",
        "        # self.dev = qml.device(\"default.qubit\", wires=self.n_qubits)\r\n",
        "        # self.dev = qml.device('qiskit.basicaer', wires=self.n_qubits)\r\n",
        "        # self.dev = qml.device('qiskit.ibm', wires=self.n_qubits)\r\n",
        "        # use 'qiskit.ibmq' instead to run on hardware\r\n",
        "\r\n",
        "        self.wires_forget = [f\"wire_forget_{i}\" for i in range(self.n_qubits)]\r\n",
        "        self.wires_input = [f\"wire_input_{i}\" for i in range(self.n_qubits)]\r\n",
        "        self.wires_update = [f\"wire_update_{i}\" for i in range(self.n_qubits)]\r\n",
        "        self.wires_output = [f\"wire_output_{i}\" for i in range(self.n_qubits)]\r\n",
        "\r\n",
        "        self.dev_forget = qml.device(self.backend, wires=self.wires_forget)\r\n",
        "        self.dev_input = qml.device(self.backend, wires=self.wires_input)\r\n",
        "        self.dev_update = qml.device(self.backend, wires=self.wires_update)\r\n",
        "        self.dev_output = qml.device(self.backend, wires=self.wires_output)\r\n",
        "\r\n",
        "        self.qlayer_forget = qml.QNode(\r\n",
        "            self.quantum_op(self.wires_forget), self.dev_forget, interface=\"torch\"\r\n",
        "        )\r\n",
        "\r\n",
        "        self.qlayer_input = qml.QNode(\r\n",
        "            self.quantum_op(self.wires_input), self.dev_input, interface=\"torch\"\r\n",
        "        )\r\n",
        "\r\n",
        "        self.qlayer_update = qml.QNode(\r\n",
        "            self.quantum_op(self.wires_update), self.dev_update, interface=\"torch\"\r\n",
        "        )\r\n",
        "\r\n",
        "        self.qlayer_output = qml.QNode(\r\n",
        "            self.quantum_op(self.wires_output), self.dev_output, interface=\"torch\"\r\n",
        "        )\r\n",
        "\r\n",
        "        weight_shapes = {\"weights\": (n_qlayers, n_qubits)}\r\n",
        "        print(f\"weight_shapes = (n_qlayers, n_qubits) = ({n_qlayers}, {n_qubits})\")\r\n",
        "\r\n",
        "        self.clayer_in = torch.nn.Linear(self.concat_size, n_qubits)\r\n",
        "        self.VQC = {\r\n",
        "            \"forget\": qml.qnn.TorchLayer(self.qlayer_forget, weight_shapes).to(device),\r\n",
        "            \"input\": qml.qnn.TorchLayer(self.qlayer_input, weight_shapes).to(device),\r\n",
        "            \"update\": qml.qnn.TorchLayer(self.qlayer_update, weight_shapes).to(device),\r\n",
        "            \"output\": qml.qnn.TorchLayer(self.qlayer_output, weight_shapes).to(device),\r\n",
        "        }\r\n",
        "        self.clayer_out = torch.nn.Linear(self.n_qubits, self.hidden_size)\r\n",
        "        # self.clayer_out = [torch.nn.Linear(n_qubits, self.hidden_size) for _ in range(4)]\r\n",
        "\r\n",
        "    def forward(self, x, init_states=None):\r\n",
        "        \"\"\"\r\n",
        "        x.shape is (batch_size, seq_length, feature_size)\r\n",
        "        recurrent_activation -> sigmoid\r\n",
        "        activation -> tanh\r\n",
        "        \"\"\"\r\n",
        "        # Automatically assumes single batch\r\n",
        "        x = x.to(self.device)\r\n",
        "        if len(x.shape) == 2:\r\n",
        "            x = x.reshape(1, x.shape[0], x.shape[1])\r\n",
        "        \r\n",
        "        if self.batch_first is True:\r\n",
        "            batch_size, seq_length, features_size = x.size()\r\n",
        "        else:\r\n",
        "            seq_length, batch_size, features_size = x.size()\r\n",
        "\r\n",
        "        hidden_seq = []\r\n",
        "        if init_states is None:\r\n",
        "            h_t = torch.zeros(batch_size, self.hidden_size, device=self.device) # hidden state (output)\r\n",
        "            c_t = torch.zeros(batch_size, self.hidden_size, device=self.device) # cell state\r\n",
        "        else:\r\n",
        "            # for now we ignore the fact that in PyTorch you can stack multiple RNNs\r\n",
        "            # so we take only the first elements of the init_states tuple init_states[0][0], init_states[1][0]\r\n",
        "            h_t, c_t = init_states\r\n",
        "            # h_t = h_t[0]\r\n",
        "            # c_t = c_t[0]\r\n",
        "\r\n",
        "        for t in range(seq_length):\r\n",
        "            # get features from the t-th element in seq, for all entries in the batch\r\n",
        "            x_t = x[:, t, :]\r\n",
        "\r\n",
        "            # Concatenate input and hidden state\r\n",
        "            v_t = torch.cat((h_t, x_t), dim=1).float().to(device)\r\n",
        "\r\n",
        "            # match qubit dimension\r\n",
        "            y_t = self.clayer_in(v_t).to(self.device)\r\n",
        "            \r\n",
        "            f_t = torch.sigmoid(\r\n",
        "                self.clayer_out(self.VQC[\"forget\"](y_t).to(self.device))\r\n",
        "            ).to(self.device)  # forget block\r\n",
        "            i_t = torch.sigmoid(self.clayer_out(self.VQC[\"input\"](y_t).to(self.device)))  # input block\r\n",
        "            g_t = torch.tanh(self.clayer_out(self.VQC[\"update\"](y_t).to(self.device)))  # update block\r\n",
        "            o_t = torch.sigmoid(\r\n",
        "                self.clayer_out(self.VQC[\"output\"](y_t).to(self.device)).to(self.device)\r\n",
        "            ).to(self.device)  # output block\r\n",
        "\r\n",
        "            c_t = (f_t * c_t) + (i_t * g_t)\r\n",
        "            h_t = o_t * torch.tanh(c_t)\r\n",
        "\r\n",
        "            hidden_seq.append(h_t.unsqueeze(0))\r\n",
        "\r\n",
        "        hidden_seq = torch.cat(hidden_seq, dim=0)\r\n",
        "        hidden_seq = hidden_seq.transpose(0, 1).contiguous()\r\n",
        "\r\n",
        "        # Wow, such pseudo-keras!\r\n",
        "        h_t, c_t = h_t.float(), c_t.float()\r\n",
        "\r\n",
        "        if self.dropout:\r\n",
        "          F.dropout(h_t, self.dropout, inplace=True)\r\n",
        "\r\n",
        "        if self.return_state:\r\n",
        "            if self.return_sequences:\r\n",
        "                return hidden_seq, (h_t, c_t)\r\n",
        "            else:\r\n",
        "                return (h_t, c_t)\r\n",
        "        else:\r\n",
        "            if self.return_sequences:\r\n",
        "                return hidden_seq\r\n",
        "            else:\r\n",
        "                return h_t\r\n",
        "    \r\n",
        "    def predict(self, x, init_states=None):\r\n",
        "        return self.forward(x, init_states)"
      ],
      "outputs": [],
      "metadata": {
        "id": "ZIMMZq2j2cPh"
      }
    },
    {
      "cell_type": "code",
      "execution_count": 7,
      "source": [
        "class QLSTM(nn.Module):\r\n",
        "\r\n",
        "  def __init__(self, input_size: int, hidden_size: int, n_layers: int, n_qubits: list, n_qlayers: list, dropouts: list, backend=\"default.qubit\", device=\"cpu\"):\r\n",
        "    super(QLSTM, self).__init__()\r\n",
        "    self.models = nn.ModuleList()\r\n",
        "    self.n_layers = n_layers\r\n",
        "    for i in range(self.n_layers):\r\n",
        "      self.models.append(\r\n",
        "          QLSTMCell(input_size, hidden_size, n_qubits[i], n_qlayers[i], dropouts[i], backend=backend, device=device)\r\n",
        "      )\r\n",
        "    \r\n",
        "  def forward(self, note_sequences):\r\n",
        "    # A tuple of (h_t, c_t)\r\n",
        "    outputs = []\r\n",
        "    h_t_c_t = None\r\n",
        "    for i in range(self.n_layers):\r\n",
        "      h_t_c_t = self.models[i](note_sequences[i], h_t_c_t)\r\n",
        "      # Only output c_t\r\n",
        "      outputs.append(h_t_c_t[1])\r\n",
        "    \r\n",
        "    # print(outputs)\r\n",
        "    return torch.stack(outputs)\r\n",
        "\r\n",
        "  def predict(self, note_sequences):\r\n",
        "    return self.forward(note_sequences)\r\n"
      ],
      "outputs": [],
      "metadata": {
        "id": "DE5yYIB3XKu3"
      }
    },
    {
      "cell_type": "code",
      "execution_count": 43,
      "source": [
        "# LSTMusic.py\r\n",
        "\r\n",
        "# import torch\r\n",
        "# import torch.nn as nn\r\n",
        "# from torch import optim\r\n",
        "# import torch.nn.functional as F\r\n",
        "\r\n",
        "# from QLTSM.qlstm import QLSTM\r\n",
        "\r\n",
        "import numpy as np\r\n",
        "\r\n",
        "\r\n",
        "class LSTMusic(nn.Module):\r\n",
        "    def __init__(\r\n",
        "        self,\r\n",
        "        n_qlayers=1,\r\n",
        "        n_layers=1,\r\n",
        "        dropout=0.3,\r\n",
        "        n_vocab=None,\r\n",
        "        input_dim=1,\r\n",
        "        hidden_dim=512,\r\n",
        "        n_qubits=4,\r\n",
        "        backend=\"default.qubit\",\r\n",
        "        device=\"cpu\",\r\n",
        "    ):\r\n",
        "        super(LSTMusic, self).__init__()\r\n",
        "        self.hidden_dim = hidden_dim\r\n",
        "        self.n_layers = n_layers\r\n",
        "\r\n",
        "        # The LSTM takes word embeddings as inputs, and outputs hidden states\r\n",
        "        # with dimensionality hidden_dim.\r\n",
        "        if n_qubits > 0:\r\n",
        "            print(f\"Generator will use Quantum LSTM running on backend {backend}\")\r\n",
        "            r_n = range(n_layers)\r\n",
        "            n_qubits = [n_qubits for _ in r_n]\r\n",
        "            n_qlayers = [n_qlayers for _ in r_n]\r\n",
        "            dropouts = [dropout for _ in r_n]\r\n",
        "            self.model = QLSTM(input_dim, hidden_dim, n_layers, n_qubits, n_qlayers, dropouts, device=device).to(device)\r\n",
        "\r\n",
        "            # self.model = QLSTM(\r\n",
        "            #     input_dim,\r\n",
        "            #     hidden_dim,\r\n",
        "            #     n_qubits=n_qubits,\r\n",
        "            #     backend=backend,\r\n",
        "            #     return_state=True,\r\n",
        "            #     device=device,\r\n",
        "            # ).to(device)\r\n",
        "        else:\r\n",
        "            print(\"Generator will use Classical LSTM\")\r\n",
        "            self.model = nn.LSTM(input_dim, hidden_dim)\r\n",
        "\r\n",
        "        # The linear layer that maps from hidden state space to tag space\r\n",
        "\r\n",
        "    def forward(self, note_sequences):\r\n",
        "        ct_list = self.model(note_sequences)\r\n",
        "        scores = []\r\n",
        "        for c_t in ct_list:\r\n",
        "          scores.append(F.log_softmax(c_t, dim=1))\r\n",
        "        # (h_t, c_t) = self.model(note_sequences)\r\n",
        "        # c_t = self.model(note_sequence)\r\n",
        "        # scores = F.log_softmax(c_t, dim=1)\r\n",
        "        ct_list = torch.stack(scores)\r\n",
        "        return ct_list.reshape(ct_list.shape[0], ct_list.shape[2])\r\n",
        "\r\n",
        "        # embeds = self.word_embeddings(sentence)\r\n",
        "        # lstm_out, _ = self.model(embeds.view(len(sentence), 1, -1))\r\n",
        "        # tag_logits = self.hidden2tag(lstm_out.view(len(sentence), -1))\r\n",
        "        # tag_scores = F.log_softmax(tag_logits, dim=1)\r\n",
        "        # return tag_scores\r\n",
        "\r\n",
        "    def train(\r\n",
        "        self,\r\n",
        "        mode=True,\r\n",
        "        inputs=None,\r\n",
        "        outputs=None,\r\n",
        "        n_epochs=None,\r\n",
        "        cutoff: int = None,\r\n",
        "        learning_rate=0.1,\r\n",
        "    ):\r\n",
        "        # Same as categorical cross entropy, who would've thought?!\r\n",
        "        if mode == False:\r\n",
        "            return\r\n",
        "        loss_function = nn.NLLLoss()\r\n",
        "        optimizer = optim.SGD(self.model.parameters(), lr=learning_rate)\r\n",
        "\r\n",
        "        if cutoff:\r\n",
        "            inputs = inputs[:cutoff]\r\n",
        "            outputs = outputs[:cutoff]\r\n",
        "\r\n",
        "        history = {\"loss\": []}\r\n",
        "\r\n",
        "        midi_data = list(zip(inputs, outputs))\r\n",
        "\r\n",
        "        for epoch in range(n_epochs):\r\n",
        "            counter = 0\r\n",
        "            losses = []\r\n",
        "\r\n",
        "            for i in range(0, len(midi_data) - self.n_layers, self.n_layers):\r\n",
        "              data = midi_data[i:i+self.n_layers]\r\n",
        "              note_seqs = [datum[0] for datum in data]\r\n",
        "              next_notes = torch.stack([datum[1] for datum in data])\r\n",
        "              self.zero_grad()\r\n",
        "              c_t_list = self(note_seqs)\r\n",
        "              # c_t_list = c_t_list.reshape(c_t_list.shape[0], c_t_list.shape[2])\r\n",
        "              # print(c_t_list.shape, next_notes.reshape(self.n_layers).shape)\r\n",
        "              loss = loss_function(c_t_list, next_notes.reshape(self.n_layers).long())\r\n",
        "              loss.backward()\r\n",
        "              optimizer.step()\r\n",
        "              losses.append(float(loss))\r\n",
        "              if counter % 5 == 0:\r\n",
        "                print(f\"On datapoint #{counter} out of {cutoff}\")\r\n",
        "              counter += 1\r\n",
        "\r\n",
        "            avg_loss = np.mean(losses)\r\n",
        "            history[\"loss\"].append(avg_loss)\r\n",
        "            print(\"Epoch {} / {}: Loss = {:.3f}\".format(epoch + 1, n_epochs, avg_loss))\r\n",
        "        return history\r\n",
        "\r\n",
        "    def generate_notes(self, network_input, int_to_note, n_vocab, n_notes):\r\n",
        "        \"\"\"Generate notes from the neural network based on a sequence of notes\"\"\"\r\n",
        "        # pick a random sequence from the input as a starting point for the prediction\r\n",
        "        with torch.no_grad():\r\n",
        "            start = np.random.randint(0, len(network_input) - 1)\r\n",
        "\r\n",
        "            pattern = network_input[start]\r\n",
        "            prediction_output = []\r\n",
        "\r\n",
        "            # generate 500 notes\r\n",
        "            for _ in range(n_notes):\r\n",
        "                prediction_input = pattern.clone().detach().reshape(1, len(pattern), 1)\r\n",
        "                # prediction_input = prediction_input / float(n_vocab)\r\n",
        "\r\n",
        "                (h_t, prediction) = self.model.predict(prediction_input)\r\n",
        "\r\n",
        "                index = prediction.argmax()\r\n",
        "                result = int_to_note[int(index)]\r\n",
        "                prediction_output.append(result)\r\n",
        "\r\n",
        "                added_index = (index / n_vocab).reshape(1, 1)\r\n",
        "\r\n",
        "                pattern = torch.cat((pattern, added_index), 0)\r\n",
        "                # pattern.append(index)\r\n",
        "                pattern = pattern[1 : len(pattern)]\r\n",
        "\r\n",
        "            return prediction_output\r\n"
      ],
      "outputs": [],
      "metadata": {
        "id": "3AgEdPUc2cPk"
      }
    },
    {
      "cell_type": "code",
      "execution_count": 40,
      "source": [
        "seq_length = 100\r\n",
        "n_epochs = 1\r\n",
        "cutoff = 500\r\n",
        "n_qubits = 4\r\n",
        "n_layers = 4\r\n",
        "n_qlayers = 2\r\n",
        "\r\n",
        "model_name = f\"lstm{n_layers}-seq{seq_length}-cut{cutoff}-epcs{n_epochs}-qu{n_qubits}-nq{n_qlayers}\"\r\n",
        "model_str = f\"{model_name}.pt\""
      ],
      "outputs": [],
      "metadata": {
        "id": "j0r6iXZ82cPm"
      }
    },
    {
      "cell_type": "code",
      "execution_count": 10,
      "source": [
        "print(\"Initialized Midi\")\r\n",
        "midi = Midi(seq_length, device)"
      ],
      "outputs": [
        {
          "output_type": "stream",
          "name": "stdout",
          "text": [
            "Initialized Midi\n",
            "Input shape: torch.Size([44806, 50, 1])\n",
            "Output shape: torch.Size([44806])\n"
          ]
        }
      ],
      "metadata": {
        "colab": {
          "base_uri": "https://localhost:8080/"
        },
        "id": "a33Nq6eh2cPm",
        "outputId": "02775e16-ede3-4889-c280-19a1ae3b988b"
      }
    },
    {
      "cell_type": "code",
      "execution_count": null,
      "source": [
        "print(\"Initialized LSTM\")\r\n",
        "lstm = LSTMusic(n_qlayers=n_qlayers, n_layers=n_layers, hidden_dim=midi.n_vocab, device=device).to(device)\r\n",
        "\r\n",
        "# TODO: Separate input data to test/train\r\n",
        "\r\n",
        "if Path(model_str).is_file():\r\n",
        "    print(\"Loading model\")\r\n",
        "    lstm.load_state_dict(torch.load(model_str))\r\n",
        "    lstm.eval()\r\n",
        "    # lstm = torch.load(model_str)\r\n",
        "else:\r\n",
        "    print(\"Training LSTM\")\r\n",
        "    train_history = lstm.train(\r\n",
        "        True, midi.network_input, midi.network_output, n_epochs=n_epochs, cutoff=cutoff\r\n",
        "    )\r\n",
        "    torch.save(lstm.state_dict(), model_str)"
      ],
      "outputs": [],
      "metadata": {
        "colab": {
          "base_uri": "https://localhost:8080/"
        },
        "id": "-rkZC4Yb2cPn",
        "outputId": "5fcd32c7-280d-4ec4-f23e-56f759f97a03"
      }
    },
    {
      "cell_type": "code",
      "execution_count": 1,
      "source": [
        "def generate_notes(self, network_input, int_to_note, n_vocab, n_notes, n_layers):\r\n",
        "        \"\"\"Generate notes from the neural network based on a sequence of notes\"\"\"\r\n",
        "        # pick a random sequence from the input as a starting point for the prediction\r\n",
        "        with torch.no_grad():\r\n",
        "            req_size = n_notes//n_layers\r\n",
        "            start = np.random.randint(0, len(network_input) - req_size)\r\n",
        "\r\n",
        "            # pattern = network_input[start]\r\n",
        "            prediction_output = []\r\n",
        "\r\n",
        "            # generate n_notes\r\n",
        "            for i in range(start, start + n_notes, n_layers):\r\n",
        "                # print(network_input[i:i+n_layers].shape)\r\n",
        "                prediction_input = network_input[i:i+n_layers]\r\n",
        "                # prediction_input = pattern.clone().detach().reshape(1, len(pattern), 1)\r\n",
        "                # prediction_input = prediction_input / float(n_vocab)\r\n",
        "\r\n",
        "                ct_list = self.model.predict(prediction_input)\r\n",
        "\r\n",
        "                for prediction in ct_list:\r\n",
        "                  index = prediction.argmax()\r\n",
        "                  result = int_to_note[int(index)]\r\n",
        "                  prediction_output.append(result)\r\n",
        "\r\n",
        "                # added_index = (index / n_vocab).reshape(1, 1)\r\n",
        "                # pattern = torch.cat((pattern, added_index), 0)\r\n",
        "                # pattern.append(index)\r\n",
        "                # pattern = pattern[1 : len(pattern)]\r\n",
        "\r\n",
        "            return prediction_output"
      ],
      "outputs": [],
      "metadata": {
        "id": "JTxPm8XrDuLa"
      }
    },
    {
      "cell_type": "code",
      "execution_count": 2,
      "source": [
        "print(\"Generating notes\")\r\n",
        "notes = generate_notes(\r\n",
        "    lstm, midi.network_input, midi.int_to_note, midi.n_vocab, n_notes=20, n_layers=3\r\n",
        ")\r\n",
        "notes"
      ],
      "outputs": [
        {
          "output_type": "stream",
          "name": "stdout",
          "text": [
            "Generating notes\n"
          ]
        },
        {
          "output_type": "error",
          "ename": "NameError",
          "evalue": "ignored",
          "traceback": [
            "\u001b[0;31m---------------------------------------------------------------------------\u001b[0m",
            "\u001b[0;31mNameError\u001b[0m                                 Traceback (most recent call last)",
            "\u001b[0;32m<ipython-input-2-0d17b1727e67>\u001b[0m in \u001b[0;36m<module>\u001b[0;34m()\u001b[0m\n\u001b[1;32m      1\u001b[0m \u001b[0mprint\u001b[0m\u001b[0;34m(\u001b[0m\u001b[0;34m\"Generating notes\"\u001b[0m\u001b[0;34m)\u001b[0m\u001b[0;34m\u001b[0m\u001b[0;34m\u001b[0m\u001b[0m\n\u001b[1;32m      2\u001b[0m notes = generate_notes(\n\u001b[0;32m----> 3\u001b[0;31m     \u001b[0mlstm\u001b[0m\u001b[0;34m,\u001b[0m \u001b[0mmidi\u001b[0m\u001b[0;34m.\u001b[0m\u001b[0mnetwork_input\u001b[0m\u001b[0;34m,\u001b[0m \u001b[0mmidi\u001b[0m\u001b[0;34m.\u001b[0m\u001b[0mint_to_note\u001b[0m\u001b[0;34m,\u001b[0m \u001b[0mmidi\u001b[0m\u001b[0;34m.\u001b[0m\u001b[0mn_vocab\u001b[0m\u001b[0;34m,\u001b[0m \u001b[0mn_notes\u001b[0m\u001b[0;34m=\u001b[0m\u001b[0;36m20\u001b[0m\u001b[0;34m,\u001b[0m \u001b[0mn_layers\u001b[0m\u001b[0;34m=\u001b[0m\u001b[0;36m3\u001b[0m\u001b[0;34m\u001b[0m\u001b[0;34m\u001b[0m\u001b[0m\n\u001b[0m\u001b[1;32m      4\u001b[0m )\n\u001b[1;32m      5\u001b[0m \u001b[0mnotes\u001b[0m\u001b[0;34m\u001b[0m\u001b[0;34m\u001b[0m\u001b[0m\n",
            "\u001b[0;31mNameError\u001b[0m: name 'lstm' is not defined"
          ]
        }
      ],
      "metadata": {
        "id": "q7PVNr3_2cPo",
        "colab": {
          "base_uri": "https://localhost:8080/",
          "height": 264
        },
        "outputId": "b50baa23-1fdb-4764-fa74-d7c228c2c0df"
      }
    },
    {
      "cell_type": "code",
      "execution_count": 39,
      "source": [
        "print(\"Saving as MIDI file.\")\r\n",
        "midi.create_midi_from_model(notes, f\"{model_name}_generated.mid\")"
      ],
      "outputs": [
        {
          "output_type": "stream",
          "name": "stdout",
          "text": [
            "Saving as MIDI file.\n"
          ]
        }
      ],
      "metadata": {
        "id": "ChgF6LoQ2cPq",
        "colab": {
          "base_uri": "https://localhost:8080/"
        },
        "outputId": "d86f4e61-1be0-4892-c4c2-1e031512e262"
      }
    }
  ]
}