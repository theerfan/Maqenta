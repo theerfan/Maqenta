{
  "nbformat": 4,
  "nbformat_minor": 2,
  "metadata": {
    "colab": {
      "name": "Copy of Copy of main_gpu.ipynb",
      "provenance": [],
      "collapsed_sections": []
    },
    "kernelspec": {
      "name": "python3",
      "display_name": "Python 3.9.6 64-bit ('venv': venv)"
    },
    "language_info": {
      "codemirror_mode": {
        "name": "ipython",
        "version": 3
      },
      "file_extension": ".py",
      "mimetype": "text/x-python",
      "name": "python",
      "nbconvert_exporter": "python",
      "pygments_lexer": "ipython3",
      "version": "3.9.6"
    },
    "interpreter": {
      "hash": "dc44aa18a01d4ef3c49dce97499f9883b1b573f96a33e2e79347f993e3562639"
    },
    "accelerator": "GPU"
  },
  "cells": [
    {
      "cell_type": "code",
      "execution_count": null,
      "source": [
        "!pip install git+https://github.com/PennyLaneAI/pennylane"
      ],
      "outputs": [],
      "metadata": {
        "id": "MMjfp2zgYszr"
      }
    },
    {
      "cell_type": "code",
      "execution_count": 2,
      "source": [
        "import torch\r\n",
        "import torch.nn as nn\r\n",
        "from torch import optim\r\n",
        "import torch.nn.functional as F\r\n",
        "from torch import tensor\r\n",
        "\r\n",
        "from pathlib import Path\r\n",
        "\r\n",
        "import pennylane as qml\r\n",
        "from pennylane import numpy as np\r\n",
        "from pennylane.templates import embeddings as emb\r\n",
        "from pennylane.templates import layers as lay\r\n",
        "\r\n",
        "from typing import Union\r\n",
        "\r\n",
        "import matplotlib.pyplot as plt\r\n",
        "\r\n",
        "from music21 import converter, instrument, note, chord, stream\r\n",
        "import glob, pickle, time"
      ],
      "outputs": [],
      "metadata": {
        "id": "z70RfQb52cPX"
      }
    },
    {
      "cell_type": "code",
      "execution_count": 3,
      "source": [
        "device = torch.device('cuda' if torch.cuda.is_available() else 'cpu')\r\n",
        "device"
      ],
      "outputs": [
        {
          "output_type": "execute_result",
          "data": {
            "text/plain": [
              "device(type='cuda')"
            ]
          },
          "metadata": {},
          "execution_count": 3
        }
      ],
      "metadata": {
        "colab": {
          "base_uri": "https://localhost:8080/"
        },
        "id": "Y11nHDFJ79-C",
        "outputId": "72d48483-8e41-4272-d84b-ffdd4d7bfc30"
      }
    },
    {
      "cell_type": "code",
      "execution_count": null,
      "source": [
        "!wget https://github.com/theerfan/Maqenta/raw/main/data/notes.pk"
      ],
      "outputs": [],
      "metadata": {
        "id": "uKEIMOeK4VQV"
      }
    },
    {
      "cell_type": "code",
      "execution_count": 19,
      "source": [
        "# Midi.py\r\n",
        "\r\n",
        "notes_dir = \"notes.pk\"\r\n",
        "\r\n",
        "\r\n",
        "class Midi:\r\n",
        "    def __init__(self, seq_length, device):\r\n",
        "        self.seq_length = seq_length\r\n",
        "        self.device = device\r\n",
        "\r\n",
        "        if Path(notes_dir).is_file():\r\n",
        "            self.notes = pickle.load(open(notes_dir, \"rb\"))\r\n",
        "        else:\r\n",
        "            self.notes = self.get_notes()\r\n",
        "            pickle.dump(self.notes, open(notes_dir, \"wb\"))\r\n",
        "\r\n",
        "        # if type(self.notes) == list:\r\n",
        "          # self.notes = torch.tensor(self.notes).to(device)\r\n",
        "\r\n",
        "        self.network_input, self.network_output = self.prepare_sequences(self.notes)\r\n",
        "        print(f\"Input shape: {self.network_input.shape}\")\r\n",
        "        print(f\"Output shape: {self.network_output.shape}\")\r\n",
        "\r\n",
        "    def get_notes(self):\r\n",
        "        \"\"\"Get all the notes and chords from the midi files in the ./midi_songs directory\"\"\"\r\n",
        "        # This is assuming that every interval between notes is the same (0.5)\r\n",
        "        notes = []\r\n",
        "\r\n",
        "        for file in glob.glob(\"midi_songs/*.mid\"):\r\n",
        "            midi = converter.parse(file)\r\n",
        "\r\n",
        "            print(\"Parsing %s\" % file)\r\n",
        "\r\n",
        "            notes_to_parse = None\r\n",
        "\r\n",
        "            try:  # file has instrument parts\r\n",
        "                s2 = instrument.partitionByInstrument(midi)\r\n",
        "                notes_to_parse = s2.parts[0].recurse()\r\n",
        "            except:  # file has notes in a flat structure\r\n",
        "                notes_to_parse = midi.flat.notes\r\n",
        "\r\n",
        "            for element in notes_to_parse:\r\n",
        "                if isinstance(element, note.Note):\r\n",
        "                    notes.append(str(element.pitch))\r\n",
        "                elif isinstance(element, chord.Chord):\r\n",
        "                    notes.append(\".\".join(str(n) for n in element.normalOrder))\r\n",
        "\r\n",
        "        with open(notes_dir, \"wb\") as filepath:\r\n",
        "            pickle.dump(notes, filepath)\r\n",
        "\r\n",
        "        return notes\r\n",
        "\r\n",
        "    def prepare_sequences(self, notes):\r\n",
        "        \"\"\"Prepare the sequences used by the Neural Network\"\"\"\r\n",
        "        # self.n_vocab = len(set(notes))\r\n",
        "\r\n",
        "        # get all pitch names\r\n",
        "        pitchnames = sorted(set(item for item in notes))\r\n",
        "\r\n",
        "        # create a dictionary to map pitches to integers\r\n",
        "        self.note_to_int = {note: number for number, note in enumerate(pitchnames)}\r\n",
        "        self.int_to_note = {number: note for number, note in enumerate(pitchnames)}\r\n",
        "\r\n",
        "        network_input = []\r\n",
        "        network_output = []\r\n",
        "\r\n",
        "        # create input sequences and the corresponding outputs\r\n",
        "        for i in range(len(self.notes) - self.seq_length):\r\n",
        "            sequence_in = self.notes[i : i + self.seq_length]\r\n",
        "            sequence_out = self.notes[i + self.seq_length]\r\n",
        "            network_input.append([self.note_to_int[char] for char in sequence_in])\r\n",
        "            network_output.append(self.note_to_int[sequence_out])\r\n",
        "\r\n",
        "        n_patterns = len(network_input)\r\n",
        "\r\n",
        "        # reshape the input into a format compatible with LSTM layers\r\n",
        "        # So this is actuallyt (number of different inputs, sequence length, number of features)\r\n",
        "        network_input = np.reshape(network_input, (n_patterns, self.seq_length))\r\n",
        "        network_input = torch.tensor(network_input, device=self.device, dtype=torch.double)\r\n",
        "\r\n",
        "        self.input_norms = torch.tensor(torch.linalg.norm(network_input, axis=1))\r\n",
        "        \r\n",
        "        # print(network_input.shape)\r\n",
        "        for i in range(network_input.shape[0]):\r\n",
        "            network_input[i] /= self.input_norms[i]\r\n",
        "        # network_input = torch.div(network_input, self.input_norms)\r\n",
        "\r\n",
        "        return (\r\n",
        "            network_input,\r\n",
        "            torch.tensor(network_output, device=self.device),\r\n",
        "        )\r\n",
        "\r\n",
        "    def create_midi_from_model(self, prediction_output, filename):\r\n",
        "        \"\"\"convert the output from the prediction to notes and create a midi file\r\n",
        "        from the notes\"\"\"\r\n",
        "        offset = 0\r\n",
        "        output_notes = []\r\n",
        "\r\n",
        "        # create note and chord objects based on the values generated by the model\r\n",
        "        for pattern in prediction_output:\r\n",
        "            # pattern is a chord\r\n",
        "            if (\".\" in pattern) or pattern.isdigit():\r\n",
        "                notes_in_chord = pattern.split(\".\")\r\n",
        "                notes = []\r\n",
        "                for current_note in notes_in_chord:\r\n",
        "                    new_note = note.Note(int(current_note))\r\n",
        "                    new_note.storedInstrument = instrument.Piano()\r\n",
        "                    notes.append(new_note)\r\n",
        "                new_chord = chord.Chord(notes)\r\n",
        "                new_chord.offset = offset\r\n",
        "                output_notes.append(new_chord)\r\n",
        "            # pattern is a note\r\n",
        "            else:\r\n",
        "                new_note = note.Note(pattern)\r\n",
        "                new_note.offset = offset\r\n",
        "                new_note.storedInstrument = instrument.Piano()\r\n",
        "                output_notes.append(new_note)\r\n",
        "\r\n",
        "            # increase offset each iteration so that notes do not stack\r\n",
        "            offset += 0.5\r\n",
        "\r\n",
        "        midi_stream = stream.Stream(output_notes)\r\n",
        "\r\n",
        "        midi_stream.write(\"midi\", fp=filename)\r\n"
      ],
      "outputs": [],
      "metadata": {
        "id": "nyTkc6uS2cPb"
      }
    },
    {
      "cell_type": "code",
      "execution_count": 11,
      "source": [
        "# QLSTM.py\r\n",
        "\r\n",
        "Embedding = Union[emb.AngleEmbedding, emb.AmplitudeEmbedding, emb.BasisEmbedding]\r\n",
        "Layer = Union[\r\n",
        "    lay.BasicEntanglerLayers,\r\n",
        "    lay.ParticleConservingU1,\r\n",
        "    lay.ParticleConservingU2,\r\n",
        "    lay.RandomLayers,\r\n",
        "    lay.StronglyEntanglingLayers,\r\n",
        "]\r\n",
        "\r\n",
        "\r\n",
        "class QLSTMCell(nn.Module):\r\n",
        "    def quantum_op(\r\n",
        "        self,\r\n",
        "        wires,\r\n",
        "        embedding: Embedding = emb.AmplitudeEmbedding,\r\n",
        "        layer: Layer = lay.RandomLayers,\r\n",
        "    ):\r\n",
        "        def circuit_part(inputs, weights):\r\n",
        "            if embedding == emb.AmplitudeEmbedding:\r\n",
        "              embedding(inputs.cpu().detach(), wires=wires, normalize=True)\r\n",
        "            else:\r\n",
        "              embedding(inputs, wires=wires)\r\n",
        "            if layer == lay.RandomLayers:\r\n",
        "              seed = np.random.randint(1, 2**12)\r\n",
        "              layer(weights, wires=wires, seed=seed)\r\n",
        "            else:\r\n",
        "              layer(weights, wires=wires)\r\n",
        "            return [qml.expval(qml.PauliZ(wires=w)) for w in wires]\r\n",
        "\r\n",
        "        return circuit_part\r\n",
        "\r\n",
        "    def __init__(\r\n",
        "        self,\r\n",
        "        input_size,\r\n",
        "        hidden_size,\r\n",
        "        n_qubits=4,\r\n",
        "        n_qlayers=1,\r\n",
        "        dropout=0,\r\n",
        "        batch_first=True,\r\n",
        "        return_sequences=False,\r\n",
        "        return_state=True,\r\n",
        "        backend=\"default.qubit\",\r\n",
        "        device=\"cpu\"\r\n",
        "    ):\r\n",
        "        super(QLSTMCell, self).__init__()\r\n",
        "        self.n_inputs = input_size\r\n",
        "        self.hidden_size = hidden_size\r\n",
        "        self.concat_size = self.n_inputs + self.hidden_size\r\n",
        "        self.n_qubits = n_qubits\r\n",
        "        self.n_qlayers = n_qlayers\r\n",
        "        self.backend = backend  # \"default.qubit\", \"qiskit.basicaer\", \"qiskit.ibm\"\r\n",
        "        self.device = device # \"cpu\", \"cuda\"\r\n",
        "        self.dropout = dropout\r\n",
        "\r\n",
        "        self.batch_first = batch_first\r\n",
        "        self.return_sequences = return_sequences\r\n",
        "        self.return_state = return_state\r\n",
        "\r\n",
        "        self.wires_forget = [f\"wire_forget_{i}\" for i in range(self.n_qubits)]\r\n",
        "        self.wires_input = [f\"wire_input_{i}\" for i in range(self.n_qubits)]\r\n",
        "        self.wires_update = [f\"wire_update_{i}\" for i in range(self.n_qubits)]\r\n",
        "        self.wires_output = [f\"wire_output_{i}\" for i in range(self.n_qubits)]\r\n",
        "\r\n",
        "        self.dev_forget = qml.device(self.backend, wires=self.wires_forget)\r\n",
        "        self.dev_input = qml.device(self.backend, wires=self.wires_input)\r\n",
        "        self.dev_update = qml.device(self.backend, wires=self.wires_update)\r\n",
        "        self.dev_output = qml.device(self.backend, wires=self.wires_output)\r\n",
        "\r\n",
        "        self.qlayer_forget = qml.QNode(\r\n",
        "            self.quantum_op(self.wires_forget), self.dev_forget, interface=\"torch\"\r\n",
        "        )\r\n",
        "\r\n",
        "        self.qlayer_input = qml.QNode(\r\n",
        "            self.quantum_op(self.wires_input), self.dev_input, interface=\"torch\"\r\n",
        "        )\r\n",
        "\r\n",
        "        self.qlayer_update = qml.QNode(\r\n",
        "            self.quantum_op(self.wires_update), self.dev_update, interface=\"torch\"\r\n",
        "        )\r\n",
        "\r\n",
        "        self.qlayer_output = qml.QNode(\r\n",
        "            self.quantum_op(self.wires_output), self.dev_output, interface=\"torch\"\r\n",
        "        )\r\n",
        "\r\n",
        "        weight_shapes = {\"weights\": (n_qlayers, n_qubits)}\r\n",
        "        # print(f\"weight_shapes = (n_qlayers, n_qubits) = ({n_qlayers}, {n_qubits})\")\r\n",
        "\r\n",
        "        self.VQC_forget = qml.qnn.TorchLayer(self.qlayer_forget, weight_shapes).to(device)\r\n",
        "        self.VQC_input = qml.qnn.TorchLayer(self.qlayer_input, weight_shapes).to(device)\r\n",
        "        self.VQC_update = qml.qnn.TorchLayer(self.qlayer_update, weight_shapes).to(device)\r\n",
        "        self.VQC_output = qml.qnn.TorchLayer(self.qlayer_output, weight_shapes).to(device)\r\n",
        "\r\n",
        "\r\n",
        "    def forward(self, x, init_states=None):\r\n",
        "        \"\"\"\r\n",
        "        x.shape is (batch_size, seq_length, feature_size)\r\n",
        "        recurrent_activation -> sigmoid\r\n",
        "        activation -> tanh\r\n",
        "        \"\"\"\r\n",
        "        # Automatically assumes single batch\r\n",
        "\r\n",
        "        x = x.to(self.device)\r\n",
        "        seq_length = x.size()\r\n",
        "\r\n",
        "        hidden_seq = []\r\n",
        "        if init_states is None:\r\n",
        "            h_t = torch.zeros(self.hidden_size, device=self.device) # hidden state (output)\r\n",
        "            c_t = torch.zeros(self.hidden_size, device=self.device) # cell state\r\n",
        "        else:\r\n",
        "            # for now we ignore the fact that in PyTorch you can stack multiple RNNs\r\n",
        "            # so we take only the first elements of the init_states tuple init_states[0][0], init_states[1][0]\r\n",
        "            h_t, c_t = init_states\r\n",
        "            # h_t = h_t[0]\r\n",
        "            # c_t = c_t[0]\r\n",
        "\r\n",
        "        # Concatenate input and hidden state\r\n",
        "        y_t = torch.cat((h_t, x), dim=0).float().to(device)\r\n",
        "        \r\n",
        "        f_t = torch.sigmoid(self.VQC_forget(y_t).to(self.device))  # forget block\r\n",
        "        i_t = torch.sigmoid(self.VQC_input(y_t).to(self.device)) # input block\r\n",
        "        g_t = torch.tanh(self.VQC_update(y_t).to(self.device))  # update block\r\n",
        "        o_t = torch.sigmoid(self.VQC_output(y_t).to(self.device)) # output block\r\n",
        "\r\n",
        "        c_t = (f_t * c_t) + (i_t * g_t)\r\n",
        "        h_t = o_t * torch.tanh(c_t)\r\n",
        "\r\n",
        "        hidden_seq.append(h_t.unsqueeze(0))\r\n",
        "\r\n",
        "        hidden_seq = torch.cat(hidden_seq, dim=0)\r\n",
        "        hidden_seq = hidden_seq.transpose(0, 1).contiguous()\r\n",
        "\r\n",
        "        h_t, c_t = h_t.float(), c_t.float()\r\n",
        "\r\n",
        "        if self.dropout:\r\n",
        "          F.dropout(h_t, self.dropout, inplace=True)\r\n",
        "\r\n",
        "        if self.return_state:\r\n",
        "            if self.return_sequences:\r\n",
        "                return hidden_seq, (h_t, c_t)\r\n",
        "            else:\r\n",
        "                return (h_t, c_t)\r\n",
        "        else:\r\n",
        "            if self.return_sequences:\r\n",
        "                return hidden_seq\r\n",
        "            else:\r\n",
        "                return h_t\r\n",
        "    \r\n",
        "    def predict(self, x, init_states=None):\r\n",
        "        return self.forward(x, init_states)"
      ],
      "outputs": [],
      "metadata": {
        "id": "ZIMMZq2j2cPh"
      }
    },
    {
      "cell_type": "code",
      "execution_count": 12,
      "source": [
        "class QLSTM(nn.Module):\r\n",
        "\r\n",
        "  def __init__(self, input_size: int, hidden_size: int, n_layers: int, n_qubits: list, n_qlayers: list, dropouts: list, backend=\"default.qubit\", device=\"cpu\"):\r\n",
        "    super(QLSTM, self).__init__()\r\n",
        "    self.models = nn.ModuleList()\r\n",
        "    self.n_layers = n_layers\r\n",
        "    for i in range(self.n_layers):\r\n",
        "      self.models.append(\r\n",
        "          QLSTMCell(input_size, hidden_size, n_qubits[i], n_qlayers[i], dropouts[i], backend=backend, device=device)\r\n",
        "      )\r\n",
        "    \r\n",
        "  def forward(self, note_sequences):\r\n",
        "    # A tuple of (h_t, c_t)\r\n",
        "    outputs = []\r\n",
        "    h_t_c_t = None\r\n",
        "    for i in range(self.n_layers):\r\n",
        "      h_t_c_t = self.models[i](note_sequences[i], h_t_c_t)\r\n",
        "      # Only output c_t\r\n",
        "      outputs.append(h_t_c_t[1])\r\n",
        "    \r\n",
        "    return torch.stack(outputs)\r\n",
        "\r\n",
        "  def predict(self, note_sequences):\r\n",
        "    return self.forward(note_sequences)\r\n"
      ],
      "outputs": [],
      "metadata": {
        "id": "DE5yYIB3XKu3"
      }
    },
    {
      "cell_type": "code",
      "execution_count": 24,
      "source": [
        "def post_processing(ct_list, starting_i):\r\n",
        "  i = starting_i\r\n",
        "  for j in range(starting_i, starting_i + ct_list.shape[0]):\r\n",
        "    ct_list[j-i] = (ct_list[j-i] * float(midi.input_norms[j])).long()\r\n",
        "    ct_list[j-i] = torch.mean(ct_list[j-i]).long()\r\n",
        "  \r\n",
        "  return ct_list[:, 0]"
      ],
      "outputs": [],
      "metadata": {
        "id": "Cg9XF7zHCKZe"
      }
    },
    {
      "cell_type": "code",
      "execution_count": 25,
      "source": [
        "# LSTMusic.py\n",
        "\n",
        "class LSTMusic(nn.Module):\n",
        "    def __init__(\n",
        "        self,\n",
        "        n_qlayers=1,\n",
        "        n_layers=1,\n",
        "        dropout=0.3,\n",
        "        n_vocab=None,\n",
        "        input_dim=1,\n",
        "        hidden_dim=512,\n",
        "        n_qubits=4,\n",
        "        backend=\"default.qubit\",\n",
        "        device=\"cpu\",\n",
        "    ):\n",
        "        super(LSTMusic, self).__init__()\n",
        "        self.hidden_dim = hidden_dim\n",
        "        self.n_layers = n_layers\n",
        "\n",
        "        # The LSTM takes word embeddings as inputs, and outputs hidden states\n",
        "        # with dimensionality hidden_dim.\n",
        "        if n_qubits > 0:\n",
        "            print(f\"Generator will use Quantum LSTM running on backend {backend}\")\n",
        "            r_n = range(n_layers)\n",
        "            n_qubits = [n_qubits for _ in r_n]\n",
        "            n_qlayers = [n_qlayers for _ in r_n]\n",
        "            dropouts = [dropout for _ in r_n]\n",
        "            self.model = QLSTM(input_dim, hidden_dim, n_layers, n_qubits, n_qlayers, dropouts, device=device).to(device)\n",
        "        else:\n",
        "            print(\"Generator will use Classical LSTM\")\n",
        "            self.model = nn.LSTM(input_dim, hidden_dim)\n",
        "\n",
        "        # The linear layer that maps from hidden state space to tag space\n",
        "\n",
        "    def forward(self, note_sequences):\n",
        "        ct_list = self.model(note_sequences)\n",
        "        return torch.abs(ct_list)\n",
        "\n",
        "    def train(\n",
        "        self,\n",
        "        mode=True,\n",
        "        inputs=None,\n",
        "        outputs=None,\n",
        "        n_epochs=None,\n",
        "        cutoff: int = None,\n",
        "        learning_rate=0.1,\n",
        "    ):\n",
        "        if mode == False:\n",
        "            return\n",
        "        loss_function = nn.MSELoss()\n",
        "        optimizer = optim.SGD(filter(lambda p: p.requires_grad, self.model.parameters()), lr=learning_rate)\n",
        "\n",
        "        if cutoff:\n",
        "            inputs = inputs[:cutoff]\n",
        "            outputs = outputs[:cutoff]\n",
        "\n",
        "        history = {\"loss\": []}\n",
        "\n",
        "        midi_data = list(zip(inputs, outputs))\n",
        "\n",
        "        for epoch in range(n_epochs):\n",
        "            counter = 0\n",
        "            losses = []\n",
        "\n",
        "            for i in range(0, len(midi_data) - self.n_layers, self.n_layers):\n",
        "              data = midi_data[i:i+self.n_layers]\n",
        "              midi_input_sequences = [datum[0] for datum in data]\n",
        "              midi_output_sequences = torch.stack([datum[1] for datum in data])\n",
        "\n",
        "              optimizer.zero_grad()\n",
        "\n",
        "              lstm_output_sequence = self(midi_input_sequences)\n",
        "              lstm_output_sequence = post_processing(lstm_output_sequence, i)\n",
        "\n",
        "              loss = loss_function(lstm_output_sequence, midi_output_sequences.float())\n",
        "              loss.backward()\n",
        "              optimizer.step()\n",
        "\n",
        "              losses.append(float(loss))\n",
        "\n",
        "              if counter % 5 == 0:\n",
        "                print(f\"On datapoint #{counter} out of {cutoff}\")\n",
        "              counter += 1\n",
        "\n",
        "            avg_loss = np.mean(losses)\n",
        "            history[\"loss\"].append(avg_loss)\n",
        "            print(\"Epoch {} / {}: Loss = {:.3f}\".format(epoch + 1, n_epochs, avg_loss))\n",
        "        return history"
      ],
      "outputs": [],
      "metadata": {
        "id": "3AgEdPUc2cPk"
      }
    },
    {
      "cell_type": "code",
      "execution_count": 6,
      "source": [
        "n_qlayers = 2\r\n",
        "n_qubits = 6\r\n",
        "seq_length = 2**n_qubits - n_qubits\r\n",
        "\r\n",
        "n_layers = 50\r\n",
        "\r\n",
        "n_epochs = 3\r\n",
        "cutoff = 10_000\r\n",
        "\r\n",
        "generator_counter = 0\r\n",
        "\r\n",
        "model_name = f\"lstm{n_layers}-seq{seq_length}-cut{cutoff}-epcs{n_epochs}-qu{n_qubits}-nq{n_qlayers}\"\r\n",
        "model_str = f\"{model_name}.pt\""
      ],
      "outputs": [],
      "metadata": {
        "id": "j0r6iXZ82cPm"
      }
    },
    {
      "cell_type": "code",
      "execution_count": 21,
      "source": [
        "print(\"Initializing Midi\")\r\n",
        "midi = Midi(seq_length, device)"
      ],
      "outputs": [
        {
          "output_type": "stream",
          "name": "stdout",
          "text": [
            "Initialized Midi\n"
          ]
        },
        {
          "output_type": "stream",
          "name": "stderr",
          "text": [
            "/usr/local/lib/python3.7/dist-packages/ipykernel_launcher.py:81: UserWarning: To copy construct from a tensor, it is recommended to use sourceTensor.clone().detach() or sourceTensor.clone().detach().requires_grad_(True), rather than torch.tensor(sourceTensor).\n"
          ]
        },
        {
          "output_type": "stream",
          "name": "stdout",
          "text": [
            "Input shape: torch.Size([44798, 58])\n",
            "Output shape: torch.Size([44798])\n"
          ]
        }
      ],
      "metadata": {
        "colab": {
          "base_uri": "https://localhost:8080/"
        },
        "id": "a33Nq6eh2cPm",
        "outputId": "c9954c81-0874-43d2-cc85-42ea82a8552d"
      }
    },
    {
      "cell_type": "code",
      "execution_count": 29,
      "source": [
        "print(\"Initializing LSTM\")\r\n",
        "lstm = LSTMusic(n_qubits=n_qubits, n_qlayers=n_qlayers, n_layers=n_layers, hidden_dim=n_qubits, device=device).to(device)"
      ],
      "outputs": [
        {
          "output_type": "stream",
          "name": "stdout",
          "text": [
            "Initialized LSTM\n",
            "Generator will use Quantum LSTM running on backend default.qubit\n"
          ]
        }
      ],
      "metadata": {
        "id": "LafpbTRVYeE-",
        "colab": {
          "base_uri": "https://localhost:8080/"
        },
        "outputId": "3e7bd5f1-5687-48e8-9e4d-109293d5e6d2"
      }
    },
    {
      "cell_type": "code",
      "execution_count": null,
      "source": [
        "def print_parameters():\r\n",
        "  for name, param in lstm.named_parameters():\r\n",
        "      if param.requires_grad:\r\n",
        "          print(name, param.data)"
      ],
      "outputs": [],
      "metadata": {
        "id": "7sJM8dALYjfE"
      }
    },
    {
      "cell_type": "code",
      "execution_count": null,
      "source": [
        "# TODO: Separate input data to test/train\r\n",
        "\r\n",
        "if Path(model_str).is_file():\r\n",
        "    print(\"Loading model\")\r\n",
        "    lstm.load_state_dict(torch.load(model_str))\r\n",
        "    lstm.eval()\r\n",
        "    # lstm = torch.load(model_str)\r\n",
        "else:\r\n",
        "    print(\"Training LSTM\")\r\n",
        "    train_history = lstm.train(\r\n",
        "        True, midi.network_input, midi.network_output, n_epochs=n_epochs, cutoff=cutoff\r\n",
        "    )\r\n",
        "    torch.save(lstm.state_dict(), model_str)"
      ],
      "outputs": [],
      "metadata": {
        "id": "-rkZC4Yb2cPn"
      }
    },
    {
      "cell_type": "code",
      "execution_count": 3,
      "source": [
        "import random\r\n",
        "\r\n",
        "def generate_notes(self, network_input, int_to_note, n_notes, n_layers):\r\n",
        "        \"\"\"Generate notes from the neural network based on a sequence of notes\"\"\"\r\n",
        "        # pick a random sequence from the input as a starting point for the prediction\r\n",
        "        req_size = n_notes//n_layers\r\n",
        "        start = random.randint(0, len(network_input) - req_size)\r\n",
        "        prediction_output = []\r\n",
        "\r\n",
        "        with torch.no_grad():\r\n",
        "            # generate n_notes\r\n",
        "            for i in range(start, start + n_notes, n_layers):\r\n",
        "                prediction_input = network_input[i:i+n_layers]\r\n",
        "\r\n",
        "                model_output = self.forward(prediction_input)\r\n",
        "                model_output = post_processing(model_output, i)\r\n",
        "\r\n",
        "                for prediction in model_output:\r\n",
        "                  index = torch.mean(prediction)\r\n",
        "                  result = int_to_note.get(int(index), '0')\r\n",
        "                  prediction_output.append(result)\r\n",
        "\r\n",
        "            return prediction_output"
      ],
      "outputs": [],
      "metadata": {
        "id": "JTxPm8XrDuLa"
      }
    },
    {
      "cell_type": "code",
      "execution_count": null,
      "source": [
        "n_notes = 200\r\n",
        "print(\"Generating notes\")\r\n",
        "notes = generate_notes(\r\n",
        "    lstm, midi.network_input, midi.int_to_note, midi.n_vocab, n_notes=n_notes, n_layers=n_layers\r\n",
        ")\r\n",
        "notes"
      ],
      "outputs": [],
      "metadata": {
        "id": "q7PVNr3_2cPo"
      }
    },
    {
      "cell_type": "code",
      "execution_count": null,
      "source": [
        "generator_counter += 1\r\n",
        "print(\"Saving as MIDI file.\")\r\n",
        "midi.create_midi_from_model(notes, f\"{model_name}_generated_{generator_counter}.mid\")"
      ],
      "outputs": [],
      "metadata": {
        "id": "ChgF6LoQ2cPq",
        "colab": {
          "base_uri": "https://localhost:8080/"
        },
        "outputId": "b7d5610d-542b-4a28-f686-980e33910a30"
      }
    }
  ]
}