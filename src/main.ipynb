{
 "cells": [
  {
   "cell_type": "code",
   "execution_count": null,
   "source": [
    "from midi import Midi\r\n",
    "from QLTSM.LSTMusic import LSTMusic\r\n",
    "import torch\r\n",
    "\r\n",
    "from pathlib import Path\r\n",
    "\r\n",
    "from pennylane import numpy as np\r\n",
    "\r\n",
    "import matplotlib.pyplot as plt"
   ],
   "outputs": [],
   "metadata": {}
  },
  {
   "cell_type": "code",
   "execution_count": null,
   "source": [
    "seq_length = 25\r\n",
    "n_epochs = 10\r\n",
    "cutoff = 20\r\n",
    "n_qubits = 4\r\n",
    "\r\n",
    "model_name = f\"lstm-seq{seq_length}-cut{cutoff}-epcs{n_epochs}-qu{n_qubits}\"\r\n",
    "model_str = f\"saved_models/{model_name}.pt\""
   ],
   "outputs": [],
   "metadata": {}
  },
  {
   "cell_type": "code",
   "execution_count": null,
   "source": [
    "print(\"Initialized Midi\")\r\n",
    "midi = Midi(seq_length)"
   ],
   "outputs": [],
   "metadata": {}
  },
  {
   "cell_type": "code",
   "execution_count": null,
   "source": [
    "print(\"Initialized LSTM\")\r\n",
    "lstm = LSTMusic(hidden_dim=midi.n_vocab, n_qubits=n_qubits)\r\n",
    "\r\n",
    "if Path(model_str).is_file():\r\n",
    "    print(\"Loading model\")\r\n",
    "    lstm.load_state_dict(torch.load(model_str))\r\n",
    "    lstm.eval()\r\n",
    "    # lstm = torch.load(model_str)\r\n",
    "else:\r\n",
    "    print(\"Training LSTM\")\r\n",
    "    train_history = lstm.train(\r\n",
    "        True, midi.network_input, midi.network_output, n_epochs=n_epochs, cutoff=cutoff\r\n",
    "    )\r\n",
    "    torch.save(lstm.state_dict(), model_str)"
   ],
   "outputs": [],
   "metadata": {}
  },
  {
   "cell_type": "code",
   "execution_count": null,
   "source": [
    "print(\"Generating notes\")\r\n",
    "notes = lstm.generate_notes(\r\n",
    "    midi.network_input, midi.int_to_note, midi.n_vocab, n_notes=20\r\n",
    ")"
   ],
   "outputs": [],
   "metadata": {}
  },
  {
   "cell_type": "code",
   "execution_count": null,
   "source": [
    "print(\"Saving as MIDI file.\")\r\n",
    "midi.create_midi_from_model(notes, f\"generated_songs/{model_name}_generated.mid\")"
   ],
   "outputs": [],
   "metadata": {}
  }
 ],
 "metadata": {
  "orig_nbformat": 4,
  "language_info": {
   "name": "python"
  }
 },
 "nbformat": 4,
 "nbformat_minor": 2
}